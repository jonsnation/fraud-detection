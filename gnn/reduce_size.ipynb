{
 "cells": [
  {
   "cell_type": "code",
   "execution_count": 3,
   "id": "301c11c9",
   "metadata": {},
   "outputs": [
    {
     "name": "stderr",
     "output_type": "stream",
     "text": [
      "c:\\Users\\jyc37\\anaconda3\\Lib\\site-packages\\sklearn\\base.py:1389: DataConversionWarning: A column-vector y was passed when a 1d array was expected. Please change the shape of y to (n_samples,), for example using ravel().\n",
      "  return fit_method(estimator, *args, **kwargs)\n"
     ]
    },
    {
     "name": "stdout",
     "output_type": "stream",
     "text": [
      "['V233', 'V132', 'C5', 'V261', 'id_17', 'V134', 'addr2', 'V302', 'id_28', 'DeviceInfo', 'V184', 'V183', 'V239', 'V224', 'V291', 'id_31', 'V228', 'V319', 'V185', 'id_16', 'V235', 'V258', 'id_01', 'V213', 'V9', 'V98', 'V320', 'V232', 'id_02', 'V204', 'V115', 'V172', 'V252', 'V276', 'V210', 'V180', 'id_36', 'V46', 'V51', 'V103', 'TransactionDT', 'TransactionAmt', 'ProductCD', 'card1', 'card4', 'addr1', 'C8', 'C9', 'card3', 'C6']\n"
     ]
    }
   ],
   "source": [
    "import pandas as pd\n",
    "from sklearn.ensemble import RandomForestClassifier\n",
    "\n",
    "x = pd.read_csv(\"balanced_features.csv\")\n",
    "y = pd.read_csv(\"balanced_labels.csv\")\n",
    "\n",
    "model = RandomForestClassifier(n_estimators=100, random_state=42)\n",
    "model.fit(x, y)\n",
    "\n",
    "importance = pd.Series(model.feature_importances_, index=x.columns)\n",
    "\n",
    "top_features = importance.sort_values(ascending=False).head(50).index.tolist()\n",
    "print(top_features)"
   ]
  },
  {
   "cell_type": "code",
   "execution_count": 4,
   "id": "bd25c4a3",
   "metadata": {},
   "outputs": [
    {
     "name": "stdout",
     "output_type": "stream",
     "text": [
      "['V233', 'V132', 'C5', 'V261', 'V134', 'V302', 'DeviceInfo', 'V184', 'V183', 'V239', 'V224', 'V291', 'id_31', 'V228', 'V319', 'V185', 'id_16', 'V235', 'V258', 'id_01', 'V213', 'V9', 'V98', 'V320', 'V232', 'id_02', 'V204', 'V115', 'V172', 'V252', 'V276', 'V210', 'V180', 'id_36', 'V46', 'V51', 'V103', 'TransactionDT', 'TransactionAmt', 'ProductCD', 'card4', 'C8', 'C9', 'card3', 'C6']\n"
     ]
    }
   ],
   "source": [
    "edge_features = ['card1', 'addr1', 'addr2', 'P_emaildomain', 'DeviceType', 'id_17', 'id_28']\n",
    "node_features = []\n",
    "for feature in top_features:\n",
    "    if feature not in edge_features:\n",
    "        node_features.append(feature)\n",
    "print(node_features)"
   ]
  },
  {
   "cell_type": "code",
   "execution_count": 6,
   "id": "fd299866",
   "metadata": {},
   "outputs": [
    {
     "data": {
      "text/html": [
       "<div>\n",
       "<style scoped>\n",
       "    .dataframe tbody tr th:only-of-type {\n",
       "        vertical-align: middle;\n",
       "    }\n",
       "\n",
       "    .dataframe tbody tr th {\n",
       "        vertical-align: top;\n",
       "    }\n",
       "\n",
       "    .dataframe thead th {\n",
       "        text-align: right;\n",
       "    }\n",
       "</style>\n",
       "<table border=\"1\" class=\"dataframe\">\n",
       "  <thead>\n",
       "    <tr style=\"text-align: right;\">\n",
       "      <th></th>\n",
       "      <th>V233</th>\n",
       "      <th>V132</th>\n",
       "      <th>C5</th>\n",
       "      <th>V261</th>\n",
       "      <th>V134</th>\n",
       "      <th>V302</th>\n",
       "      <th>DeviceInfo</th>\n",
       "      <th>V184</th>\n",
       "      <th>V183</th>\n",
       "      <th>V239</th>\n",
       "      <th>...</th>\n",
       "      <th>C9</th>\n",
       "      <th>card3</th>\n",
       "      <th>C6</th>\n",
       "      <th>card1</th>\n",
       "      <th>addr1</th>\n",
       "      <th>addr2</th>\n",
       "      <th>P_emaildomain</th>\n",
       "      <th>DeviceType</th>\n",
       "      <th>id_17</th>\n",
       "      <th>id_28</th>\n",
       "    </tr>\n",
       "  </thead>\n",
       "  <tbody>\n",
       "    <tr>\n",
       "      <th>0</th>\n",
       "      <td>-0.042181</td>\n",
       "      <td>-0.117974</td>\n",
       "      <td>-0.054826</td>\n",
       "      <td>-0.038838</td>\n",
       "      <td>-0.041427</td>\n",
       "      <td>-0.048377</td>\n",
       "      <td>1735.0</td>\n",
       "      <td>0.037464</td>\n",
       "      <td>0.072489</td>\n",
       "      <td>-0.02108</td>\n",
       "      <td>...</td>\n",
       "      <td>-0.147247</td>\n",
       "      <td>-1.396380</td>\n",
       "      <td>-0.087363</td>\n",
       "      <td>-0.009783</td>\n",
       "      <td>-0.098020</td>\n",
       "      <td>-0.092260</td>\n",
       "      <td>-0.059438</td>\n",
       "      <td>1.0</td>\n",
       "      <td>2.0</td>\n",
       "      <td>2.0</td>\n",
       "    </tr>\n",
       "    <tr>\n",
       "      <th>1</th>\n",
       "      <td>-0.042181</td>\n",
       "      <td>-0.117974</td>\n",
       "      <td>-0.054826</td>\n",
       "      <td>-0.038838</td>\n",
       "      <td>-0.041427</td>\n",
       "      <td>-0.048377</td>\n",
       "      <td>1735.0</td>\n",
       "      <td>0.037464</td>\n",
       "      <td>0.072489</td>\n",
       "      <td>-0.02108</td>\n",
       "      <td>...</td>\n",
       "      <td>-0.147247</td>\n",
       "      <td>-2.368254</td>\n",
       "      <td>-0.097964</td>\n",
       "      <td>0.264810</td>\n",
       "      <td>-0.098020</td>\n",
       "      <td>-0.092260</td>\n",
       "      <td>-0.059438</td>\n",
       "      <td>1.0</td>\n",
       "      <td>2.0</td>\n",
       "      <td>2.0</td>\n",
       "    </tr>\n",
       "    <tr>\n",
       "      <th>2</th>\n",
       "      <td>-0.042181</td>\n",
       "      <td>-0.117974</td>\n",
       "      <td>-0.054826</td>\n",
       "      <td>-0.038838</td>\n",
       "      <td>-0.041427</td>\n",
       "      <td>-0.048377</td>\n",
       "      <td>1735.0</td>\n",
       "      <td>0.037464</td>\n",
       "      <td>0.072489</td>\n",
       "      <td>-0.02108</td>\n",
       "      <td>...</td>\n",
       "      <td>-0.147247</td>\n",
       "      <td>-0.813255</td>\n",
       "      <td>-0.097964</td>\n",
       "      <td>0.813997</td>\n",
       "      <td>-0.098020</td>\n",
       "      <td>-0.092260</td>\n",
       "      <td>-0.059438</td>\n",
       "      <td>1.0</td>\n",
       "      <td>2.0</td>\n",
       "      <td>2.0</td>\n",
       "    </tr>\n",
       "    <tr>\n",
       "      <th>3</th>\n",
       "      <td>-0.042181</td>\n",
       "      <td>-0.117974</td>\n",
       "      <td>-0.054826</td>\n",
       "      <td>-0.038838</td>\n",
       "      <td>-0.041427</td>\n",
       "      <td>-0.026351</td>\n",
       "      <td>1735.0</td>\n",
       "      <td>0.037464</td>\n",
       "      <td>0.072489</td>\n",
       "      <td>-0.02108</td>\n",
       "      <td>...</td>\n",
       "      <td>-0.147247</td>\n",
       "      <td>-2.003802</td>\n",
       "      <td>-0.097964</td>\n",
       "      <td>1.305711</td>\n",
       "      <td>-0.090533</td>\n",
       "      <td>-0.066398</td>\n",
       "      <td>-0.059438</td>\n",
       "      <td>1.0</td>\n",
       "      <td>2.0</td>\n",
       "      <td>2.0</td>\n",
       "    </tr>\n",
       "    <tr>\n",
       "      <th>4</th>\n",
       "      <td>-0.042181</td>\n",
       "      <td>-0.117974</td>\n",
       "      <td>-0.044364</td>\n",
       "      <td>-0.038838</td>\n",
       "      <td>-0.041427</td>\n",
       "      <td>-0.048377</td>\n",
       "      <td>954.0</td>\n",
       "      <td>0.037464</td>\n",
       "      <td>0.072489</td>\n",
       "      <td>-0.02108</td>\n",
       "      <td>...</td>\n",
       "      <td>-0.147247</td>\n",
       "      <td>-2.368254</td>\n",
       "      <td>-0.097964</td>\n",
       "      <td>0.967258</td>\n",
       "      <td>-0.098020</td>\n",
       "      <td>-0.092260</td>\n",
       "      <td>-0.059438</td>\n",
       "      <td>2.0</td>\n",
       "      <td>1.0</td>\n",
       "      <td>1.0</td>\n",
       "    </tr>\n",
       "  </tbody>\n",
       "</table>\n",
       "<p>5 rows × 52 columns</p>\n",
       "</div>"
      ],
      "text/plain": [
       "       V233      V132        C5      V261      V134      V302  DeviceInfo  \\\n",
       "0 -0.042181 -0.117974 -0.054826 -0.038838 -0.041427 -0.048377      1735.0   \n",
       "1 -0.042181 -0.117974 -0.054826 -0.038838 -0.041427 -0.048377      1735.0   \n",
       "2 -0.042181 -0.117974 -0.054826 -0.038838 -0.041427 -0.048377      1735.0   \n",
       "3 -0.042181 -0.117974 -0.054826 -0.038838 -0.041427 -0.026351      1735.0   \n",
       "4 -0.042181 -0.117974 -0.044364 -0.038838 -0.041427 -0.048377       954.0   \n",
       "\n",
       "       V184      V183     V239  ...        C9     card3        C6     card1  \\\n",
       "0  0.037464  0.072489 -0.02108  ... -0.147247 -1.396380 -0.087363 -0.009783   \n",
       "1  0.037464  0.072489 -0.02108  ... -0.147247 -2.368254 -0.097964  0.264810   \n",
       "2  0.037464  0.072489 -0.02108  ... -0.147247 -0.813255 -0.097964  0.813997   \n",
       "3  0.037464  0.072489 -0.02108  ... -0.147247 -2.003802 -0.097964  1.305711   \n",
       "4  0.037464  0.072489 -0.02108  ... -0.147247 -2.368254 -0.097964  0.967258   \n",
       "\n",
       "      addr1     addr2  P_emaildomain  DeviceType  id_17  id_28  \n",
       "0 -0.098020 -0.092260      -0.059438         1.0    2.0    2.0  \n",
       "1 -0.098020 -0.092260      -0.059438         1.0    2.0    2.0  \n",
       "2 -0.098020 -0.092260      -0.059438         1.0    2.0    2.0  \n",
       "3 -0.090533 -0.066398      -0.059438         1.0    2.0    2.0  \n",
       "4 -0.098020 -0.092260      -0.059438         2.0    1.0    1.0  \n",
       "\n",
       "[5 rows x 52 columns]"
      ]
     },
     "execution_count": 6,
     "metadata": {},
     "output_type": "execute_result"
    }
   ],
   "source": [
    "x_filtered = x[node_features + edge_features]\n",
    "\n",
    "from sklearn.feature_selection import VarianceThreshold\n",
    "selector = VarianceThreshold(threshold=0.01)\n",
    "x_reduced = selector.fit_transform(x_filtered)\n",
    "\n",
    "x_reduced_df = pd.DataFrame(x_reduced, columns=x_filtered.columns[selector.get_support()])\n",
    "\n",
    "x_reduced_df.head(5)"
   ]
  },
  {
   "cell_type": "code",
   "execution_count": 7,
   "id": "cbe1ec54",
   "metadata": {},
   "outputs": [
    {
     "data": {
      "text/plain": [
       "(1139754, 52)"
      ]
     },
     "execution_count": 7,
     "metadata": {},
     "output_type": "execute_result"
    }
   ],
   "source": [
    "x_reduced_df.shape"
   ]
  },
  {
   "cell_type": "code",
   "execution_count": 8,
   "id": "2432f938",
   "metadata": {},
   "outputs": [],
   "source": [
    "x_reduced_df.to_csv(\"reduced_features.csv\", index=False)"
   ]
  }
 ],
 "metadata": {
  "kernelspec": {
   "display_name": "base",
   "language": "python",
   "name": "python3"
  },
  "language_info": {
   "codemirror_mode": {
    "name": "ipython",
    "version": 3
   },
   "file_extension": ".py",
   "mimetype": "text/x-python",
   "name": "python",
   "nbconvert_exporter": "python",
   "pygments_lexer": "ipython3",
   "version": "3.12.7"
  }
 },
 "nbformat": 4,
 "nbformat_minor": 5
}
