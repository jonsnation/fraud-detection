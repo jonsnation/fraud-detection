{
 "cells": [
  {
   "cell_type": "code",
   "execution_count": 2,
   "id": "13480463",
   "metadata": {},
   "outputs": [],
   "source": [
    "import pandas\n",
    "import numpy"
   ]
  },
  {
   "cell_type": "code",
   "execution_count": 3,
   "id": "b7c84d95",
   "metadata": {},
   "outputs": [
    {
     "data": {
      "text/plain": [
       "TransactionAmt        float64\n",
       "TransactionDT         float64\n",
       "card1                 float64\n",
       "card4_freq            float64\n",
       "card6_freq            float64\n",
       "addr1                 float64\n",
       "dist1                 float64\n",
       "P_emaildomain_freq    float64\n",
       "R_emaildomain_freq    float64\n",
       "M1_freq               float64\n",
       "M4_freq               float64\n",
       "M5_freq               float64\n",
       "M6_freq               float64\n",
       "M9_freq               float64\n",
       "C1                    float64\n",
       "C2                    float64\n",
       "C8                    float64\n",
       "C11                   float64\n",
       "V18                   float64\n",
       "V21                   float64\n",
       "V97                   float64\n",
       "V133                  float64\n",
       "V189                  float64\n",
       "V200                  float64\n",
       "V258                  float64\n",
       "V282                  float64\n",
       "V294                  float64\n",
       "V312                  float64\n",
       "DeviceType_freq       float64\n",
       "id_15_freq            float64\n",
       "id_28_freq            float64\n",
       "id_29_freq            float64\n",
       "id_31_freq            float64\n",
       "id_35_freq            float64\n",
       "id_36_freq            float64\n",
       "id_37_freq            float64\n",
       "id_38_freq            float64\n",
       "dtype: object"
      ]
     },
     "execution_count": 3,
     "metadata": {},
     "output_type": "execute_result"
    }
   ],
   "source": [
    "df = pandas.read_csv('X_subset_features.csv')\n",
    "df.dtypes\n"
   ]
  },
  {
   "cell_type": "code",
   "execution_count": 4,
   "id": "3ada7115",
   "metadata": {},
   "outputs": [
    {
     "data": {
      "text/plain": [
       "V233              float64\n",
       "V132              float64\n",
       "C5                float64\n",
       "V261              float64\n",
       "V134              float64\n",
       "V302              float64\n",
       "DeviceInfo        float64\n",
       "V184              float64\n",
       "V183              float64\n",
       "V239              float64\n",
       "V224              float64\n",
       "V291              float64\n",
       "id_31             float64\n",
       "V228              float64\n",
       "V319              float64\n",
       "V185              float64\n",
       "id_16             float64\n",
       "V235              float64\n",
       "V258              float64\n",
       "id_01             float64\n",
       "V213              float64\n",
       "V9                float64\n",
       "V98               float64\n",
       "V320              float64\n",
       "V232              float64\n",
       "id_02             float64\n",
       "V204              float64\n",
       "V115              float64\n",
       "V172              float64\n",
       "V252              float64\n",
       "V276              float64\n",
       "V210              float64\n",
       "V180              float64\n",
       "id_36             float64\n",
       "V46               float64\n",
       "V51               float64\n",
       "V103              float64\n",
       "TransactionDT     float64\n",
       "TransactionAmt    float64\n",
       "ProductCD         float64\n",
       "card4             float64\n",
       "C8                float64\n",
       "C9                float64\n",
       "card3             float64\n",
       "C6                float64\n",
       "card1             float64\n",
       "addr1             float64\n",
       "addr2             float64\n",
       "P_emaildomain     float64\n",
       "DeviceType        float64\n",
       "id_17             float64\n",
       "id_28             float64\n",
       "dtype: object"
      ]
     },
     "execution_count": 4,
     "metadata": {},
     "output_type": "execute_result"
    }
   ],
   "source": [
    "df_gnn = pandas.read_csv('reduced_features.csv')\n",
    "df_gnn.dtypes"
   ]
  }
 ],
 "metadata": {
  "kernelspec": {
   "display_name": "PT",
   "language": "python",
   "name": "python3"
  },
  "language_info": {
   "codemirror_mode": {
    "name": "ipython",
    "version": 3
   },
   "file_extension": ".py",
   "mimetype": "text/x-python",
   "name": "python",
   "nbconvert_exporter": "python",
   "pygments_lexer": "ipython3",
   "version": "3.12.9"
  }
 },
 "nbformat": 4,
 "nbformat_minor": 5
}
