{
 "cells": [
  {
   "cell_type": "code",
   "execution_count": 1,
   "id": "8ba00fbb",
   "metadata": {},
   "outputs": [],
   "source": [
    "import pandas as pd\n",
    "import joblib\n",
    "from pathlib import Path\n"
   ]
  },
  {
   "cell_type": "code",
   "execution_count": 2,
   "id": "823e164c",
   "metadata": {},
   "outputs": [],
   "source": [
    "\n",
    "# === Paths ===\n",
    "data_dir = Path(\"C:/Users/jonat/fraud-detection-project/data/processed\")\n",
    "csv_in = data_dir / \"X_processed.csv\"\n",
    "pkl_in = data_dir / \"feature_columns.pkl\"\n",
    "csv_out = data_dir / \"X_subset_features.csv\"\n"
   ]
  },
  {
   "cell_type": "code",
   "execution_count": 3,
   "id": "2fd58e70",
   "metadata": {},
   "outputs": [],
   "source": [
    "\n",
    "# === Desired Feature Subset ===\n",
    "selected_features = [\n",
    "    \"TransactionAmt\", \"TransactionDT\", \"card1\", \"card4_freq\", \"card6_freq\",\n",
    "    \"addr1\", \"dist1\", \"P_emaildomain_freq\", \"R_emaildomain_freq\",\n",
    "    \"M1_freq\", \"M4_freq\", \"M5_freq\", \"M6_freq\", \"M9_freq\",\n",
    "    \"C1\", \"C2\", \"C8\", \"C11\",\n",
    "    \"V18\", \"V21\", \"V97\", \"V133\", \"V189\", \"V200\", \"V258\", \"V282\", \"V294\", \"V312\",\n",
    "    \"DeviceType_freq\", \"id_15_freq\", \"id_28_freq\", \"id_29_freq\",\n",
    "    \"id_31_freq\", \"id_35_freq\", \"id_36_freq\", \"id_37_freq\", \"id_38_freq\"\n",
    "]\n"
   ]
  },
  {
   "cell_type": "code",
   "execution_count": 4,
   "id": "3192adb5",
   "metadata": {},
   "outputs": [],
   "source": [
    "\n",
    "# === Load full dataset and assign column names ===\n",
    "X_raw = pd.read_csv(csv_in)\n",
    "feature_names = joblib.load(pkl_in)\n",
    "X_raw.columns = feature_names\n"
   ]
  },
  {
   "cell_type": "code",
   "execution_count": 5,
   "id": "58be08d8",
   "metadata": {},
   "outputs": [],
   "source": [
    "\n",
    "# === Filter to only selected features ===\n",
    "missing = [f for f in selected_features if f not in X_raw.columns]\n",
    "if missing:\n",
    "    raise ValueError(f\"Missing features in dataset: {missing}\")\n",
    "\n",
    "X_subset = X_raw[selected_features]\n"
   ]
  },
  {
   "cell_type": "code",
   "execution_count": 6,
   "id": "baf5a9d1",
   "metadata": {},
   "outputs": [
    {
     "name": "stdout",
     "output_type": "stream",
     "text": [
      "Saved 590540 rows × 37 features to:\n",
      "C:\\Users\\jonat\\fraud-detection-project\\data\\processed\\X_subset_features.csv\n"
     ]
    }
   ],
   "source": [
    "\n",
    "# === Save filtered dataset ===\n",
    "X_subset.to_csv(csv_out, index=False)\n",
    "print(f\"Saved {X_subset.shape[0]} rows × {X_subset.shape[1]} features to:\\n{csv_out}\")\n"
   ]
  }
 ],
 "metadata": {
  "kernelspec": {
   "display_name": "base",
   "language": "python",
   "name": "python3"
  },
  "language_info": {
   "codemirror_mode": {
    "name": "ipython",
    "version": 3
   },
   "file_extension": ".py",
   "mimetype": "text/x-python",
   "name": "python",
   "nbconvert_exporter": "python",
   "pygments_lexer": "ipython3",
   "version": "3.12.7"
  }
 },
 "nbformat": 4,
 "nbformat_minor": 5
}
