{
 "cells": [
  {
   "cell_type": "code",
   "execution_count": 1,
   "id": "347bde96",
   "metadata": {},
   "outputs": [
    {
     "name": "stdout",
     "output_type": "stream",
     "text": [
      "Project root set to: C:\\Users\\jonat\\fraud-detection-project\n"
     ]
    }
   ],
   "source": [
    "import pandas as pd\n",
    "from pathlib import Path\n",
    "import joblib\n",
    "import sys\n",
    "\n",
    "# Resolve current working directory (for notebooks)\n",
    "project_root = Path().resolve()\n",
    "\n",
    "# Walk up until 'src/' is found\n",
    "while not (project_root / 'src').exists() and project_root != project_root.parent:\n",
    "    project_root = project_root.parent\n",
    "\n",
    "# Add to Python path\n",
    "sys.path.append(str(project_root))\n",
    "\n",
    "print(\"Project root set to:\", project_root)\n",
    "\n",
    "from src.data_loader import load_raw_data\n"
   ]
  },
  {
   "cell_type": "code",
   "execution_count": 2,
   "id": "55d60c7e",
   "metadata": {},
   "outputs": [],
   "source": [
    "\n",
    "# === Paths ===\n",
    "raw_dir = project_root / \"data\" / \"raw\"\n",
    "processed_dir = project_root / \"data\" / \"processed\"\n",
    "processed_dir.mkdir(parents=True, exist_ok=True)\n"
   ]
  },
  {
   "cell_type": "code",
   "execution_count": 3,
   "id": "0a601515",
   "metadata": {},
   "outputs": [
    {
     "name": "stdout",
     "output_type": "stream",
     "text": [
      "Loaded transaction shape: (590540, 394)\n",
      "Loaded identity shape: (144233, 41)\n",
      "Transaction columns: ['TransactionID', 'isFraud', 'TransactionDT', 'TransactionAmt', 'ProductCD', 'card1', 'card2', 'card3', 'card4', 'card5', 'card6', 'addr1', 'addr2', 'dist1', 'dist2', 'P_emaildomain', 'R_emaildomain', 'C1', 'C2', 'C3', 'C4', 'C5', 'C6', 'C7', 'C8', 'C9', 'C10', 'C11', 'C12', 'C13', 'C14', 'D1', 'D2', 'D3', 'D4', 'D5', 'D6', 'D7', 'D8', 'D9', 'D10', 'D11', 'D12', 'D13', 'D14', 'D15', 'M1', 'M2', 'M3', 'M4', 'M5', 'M6', 'M7', 'M8', 'M9', 'V1', 'V2', 'V3', 'V4', 'V5', 'V6', 'V7', 'V8', 'V9', 'V10', 'V11', 'V12', 'V13', 'V14', 'V15', 'V16', 'V17', 'V18', 'V19', 'V20', 'V21', 'V22', 'V23', 'V24', 'V25', 'V26', 'V27', 'V28', 'V29', 'V30', 'V31', 'V32', 'V33', 'V34', 'V35', 'V36', 'V37', 'V38', 'V39', 'V40', 'V41', 'V42', 'V43', 'V44', 'V45', 'V46', 'V47', 'V48', 'V49', 'V50', 'V51', 'V52', 'V53', 'V54', 'V55', 'V56', 'V57', 'V58', 'V59', 'V60', 'V61', 'V62', 'V63', 'V64', 'V65', 'V66', 'V67', 'V68', 'V69', 'V70', 'V71', 'V72', 'V73', 'V74', 'V75', 'V76', 'V77', 'V78', 'V79', 'V80', 'V81', 'V82', 'V83', 'V84', 'V85', 'V86', 'V87', 'V88', 'V89', 'V90', 'V91', 'V92', 'V93', 'V94', 'V95', 'V96', 'V97', 'V98', 'V99', 'V100', 'V101', 'V102', 'V103', 'V104', 'V105', 'V106', 'V107', 'V108', 'V109', 'V110', 'V111', 'V112', 'V113', 'V114', 'V115', 'V116', 'V117', 'V118', 'V119', 'V120', 'V121', 'V122', 'V123', 'V124', 'V125', 'V126', 'V127', 'V128', 'V129', 'V130', 'V131', 'V132', 'V133', 'V134', 'V135', 'V136', 'V137', 'V138', 'V139', 'V140', 'V141', 'V142', 'V143', 'V144', 'V145', 'V146', 'V147', 'V148', 'V149', 'V150', 'V151', 'V152', 'V153', 'V154', 'V155', 'V156', 'V157', 'V158', 'V159', 'V160', 'V161', 'V162', 'V163', 'V164', 'V165', 'V166', 'V167', 'V168', 'V169', 'V170', 'V171', 'V172', 'V173', 'V174', 'V175', 'V176', 'V177', 'V178', 'V179', 'V180', 'V181', 'V182', 'V183', 'V184', 'V185', 'V186', 'V187', 'V188', 'V189', 'V190', 'V191', 'V192', 'V193', 'V194', 'V195', 'V196', 'V197', 'V198', 'V199', 'V200', 'V201', 'V202', 'V203', 'V204', 'V205', 'V206', 'V207', 'V208', 'V209', 'V210', 'V211', 'V212', 'V213', 'V214', 'V215', 'V216', 'V217', 'V218', 'V219', 'V220', 'V221', 'V222', 'V223', 'V224', 'V225', 'V226', 'V227', 'V228', 'V229', 'V230', 'V231', 'V232', 'V233', 'V234', 'V235', 'V236', 'V237', 'V238', 'V239', 'V240', 'V241', 'V242', 'V243', 'V244', 'V245', 'V246', 'V247', 'V248', 'V249', 'V250', 'V251', 'V252', 'V253', 'V254', 'V255', 'V256', 'V257', 'V258', 'V259', 'V260', 'V261', 'V262', 'V263', 'V264', 'V265', 'V266', 'V267', 'V268', 'V269', 'V270', 'V271', 'V272', 'V273', 'V274', 'V275', 'V276', 'V277', 'V278', 'V279', 'V280', 'V281', 'V282', 'V283', 'V284', 'V285', 'V286', 'V287', 'V288', 'V289', 'V290', 'V291', 'V292', 'V293', 'V294', 'V295', 'V296', 'V297', 'V298', 'V299', 'V300', 'V301', 'V302', 'V303', 'V304', 'V305', 'V306', 'V307', 'V308', 'V309', 'V310', 'V311', 'V312', 'V313', 'V314', 'V315', 'V316', 'V317', 'V318', 'V319', 'V320', 'V321', 'V322', 'V323', 'V324', 'V325', 'V326', 'V327', 'V328', 'V329', 'V330', 'V331', 'V332', 'V333', 'V334', 'V335', 'V336', 'V337', 'V338', 'V339']\n",
      "Identity columns: ['TransactionID', 'id_01', 'id_02', 'id_03', 'id_04', 'id_05', 'id_06', 'id_07', 'id_08', 'id_09', 'id_10', 'id_11', 'id_12', 'id_13', 'id_14', 'id_15', 'id_16', 'id_17', 'id_18', 'id_19', 'id_20', 'id_21', 'id_22', 'id_23', 'id_24', 'id_25', 'id_26', 'id_27', 'id_28', 'id_29', 'id_30', 'id_31', 'id_32', 'id_33', 'id_34', 'id_35', 'id_36', 'id_37', 'id_38', 'DeviceType', 'DeviceInfo']\n"
     ]
    }
   ],
   "source": [
    "\n",
    "# === Load raw data ===\n",
    "transaction, _ = load_raw_data(raw_dir)\n"
   ]
  },
  {
   "cell_type": "code",
   "execution_count": 4,
   "id": "06e534b8",
   "metadata": {},
   "outputs": [],
   "source": [
    "\n",
    "# === Columns to generate maps for ===\n",
    "target_columns = [\"ProductCD\", \"P_emaildomain\"]\n"
   ]
  },
  {
   "cell_type": "code",
   "execution_count": 5,
   "id": "36691277",
   "metadata": {},
   "outputs": [],
   "source": [
    "\n",
    "# === Generate frequency maps ===\n",
    "frequency_maps = {}\n",
    "for col in target_columns:\n",
    "    if col in transaction.columns:\n",
    "        freq_map = transaction[col].value_counts(normalize=True, dropna=False).to_dict()\n",
    "        frequency_maps[col] = freq_map\n",
    "    else:\n",
    "        print(f\"Column {col} not found in transaction data.\")\n"
   ]
  },
  {
   "cell_type": "code",
   "execution_count": 6,
   "id": "f513fc86",
   "metadata": {},
   "outputs": [
    {
     "name": "stdout",
     "output_type": "stream",
     "text": [
      "Saved frequency maps to: C:\\Users\\jonat\\fraud-detection-project\\data\\processed\\frequency_maps.pkl\n"
     ]
    }
   ],
   "source": [
    "\n",
    "# === Save maps ===\n",
    "joblib.dump(frequency_maps, processed_dir / \"frequency_maps.pkl\")\n",
    "print(\"Saved frequency maps to:\", processed_dir / \"frequency_maps.pkl\")\n"
   ]
  },
  {
   "cell_type": "code",
   "execution_count": 7,
   "id": "acd900c0",
   "metadata": {},
   "outputs": [
    {
     "name": "stdout",
     "output_type": "stream",
     "text": [
      "\n",
      "=== P_emaildomain Value Counts ===\n",
      "P_emaildomain\n",
      "gmail.com           228355\n",
      "yahoo.com           100934\n",
      "NaN                  94456\n",
      "hotmail.com          45250\n",
      "anonymous.com        36998\n",
      "aol.com              28289\n",
      "comcast.net           7888\n",
      "icloud.com            6267\n",
      "outlook.com           5096\n",
      "msn.com               4092\n",
      "att.net               4033\n",
      "live.com              3041\n",
      "sbcglobal.net         2970\n",
      "verizon.net           2705\n",
      "ymail.com             2396\n",
      "bellsouth.net         1909\n",
      "yahoo.com.mx          1543\n",
      "me.com                1522\n",
      "cox.net               1393\n",
      "optonline.net         1011\n",
      "charter.net            816\n",
      "live.com.mx            749\n",
      "rocketmail.com         664\n",
      "mail.com               559\n",
      "earthlink.net          514\n",
      "gmail                  496\n",
      "outlook.es             438\n",
      "mac.com                436\n",
      "juno.com               322\n",
      "aim.com                315\n",
      "hotmail.es             305\n",
      "roadrunner.com         305\n",
      "windstream.net         305\n",
      "hotmail.fr             295\n",
      "frontier.com           280\n",
      "embarqmail.com         260\n",
      "web.de                 240\n",
      "netzero.com            230\n",
      "twc.com                230\n",
      "prodigy.net.mx         207\n",
      "centurylink.net        205\n",
      "netzero.net            196\n",
      "frontiernet.net        195\n",
      "q.com                  189\n",
      "suddenlink.net         175\n",
      "cfl.rr.com             172\n",
      "sc.rr.com              164\n",
      "cableone.net           159\n",
      "gmx.de                 149\n",
      "yahoo.fr               143\n",
      "yahoo.es               134\n",
      "hotmail.co.uk          112\n",
      "protonmail.com          76\n",
      "yahoo.de                74\n",
      "ptd.net                 68\n",
      "live.fr                 56\n",
      "yahoo.co.uk             49\n",
      "hotmail.de              43\n",
      "servicios-ta.com        35\n",
      "yahoo.co.jp             32\n",
      "Name: count, dtype: int64\n",
      "\n",
      "=== R_emaildomain Value Counts ===\n",
      "R_emaildomain\n",
      "NaN                453249\n",
      "gmail.com           57147\n",
      "hotmail.com         27509\n",
      "anonymous.com       20529\n",
      "yahoo.com           11842\n",
      "                    ...  \n",
      "netzero.com            14\n",
      "frontiernet.net        14\n",
      "centurylink.net        12\n",
      "netzero.net             9\n",
      "sc.rr.com               8\n",
      "Name: count, Length: 61, dtype: int64\n"
     ]
    }
   ],
   "source": [
    "import pandas as pd\n",
    "from pathlib import Path\n",
    "\n",
    "# Path to the raw transaction CSV\n",
    "file_path = Path(\"C:/Users/jonat/fraud-detection-project/data/raw/train_transaction.csv\")\n",
    "\n",
    "# Load only the email columns for speed\n",
    "df = pd.read_csv(file_path, usecols=[\"P_emaildomain\", \"R_emaildomain\"])\n",
    "\n",
    "# Normalize to lowercase\n",
    "df[\"P_emaildomain\"] = df[\"P_emaildomain\"].str.lower()\n",
    "df[\"R_emaildomain\"] = df[\"R_emaildomain\"].str.lower()\n",
    "\n",
    "# Display unique domain counts\n",
    "print(\"\\n=== P_emaildomain Value Counts ===\")\n",
    "print(df[\"P_emaildomain\"].value_counts(dropna=False))\n",
    "\n",
    "print(\"\\n=== R_emaildomain Value Counts ===\")\n",
    "print(df[\"R_emaildomain\"].value_counts(dropna=False))\n"
   ]
  },
  {
   "cell_type": "code",
   "execution_count": 1,
   "id": "5c173639",
   "metadata": {},
   "outputs": [],
   "source": [
    "import pandas as pd\n",
    "import joblib\n",
    "from pathlib import Path\n"
   ]
  },
  {
   "cell_type": "code",
   "execution_count": 2,
   "id": "9bfc920d",
   "metadata": {},
   "outputs": [],
   "source": [
    "\n",
    "# === Paths ===\n",
    "csv_path = Path(\"C:/Users/jonat/fraud-detection-project/data/raw/train_transaction.csv\")\n",
    "output_path = Path(\"C:/Users/jonat/fraud-detection-project/data/processed/frequency_maps.pkl\")\n"
   ]
  },
  {
   "cell_type": "code",
   "execution_count": 3,
   "id": "397cf7db",
   "metadata": {},
   "outputs": [
    {
     "name": "stdout",
     "output_type": "stream",
     "text": [
      "Data loaded: (590540, 394)\n"
     ]
    }
   ],
   "source": [
    "\n",
    "# === Load CSV ===\n",
    "df = pd.read_csv(csv_path, encoding=\"utf-8-sig\")\n",
    "print(\"Data loaded:\", df.shape)\n"
   ]
  },
  {
   "cell_type": "code",
   "execution_count": 4,
   "id": "e7c3d602",
   "metadata": {},
   "outputs": [
    {
     "name": "stdout",
     "output_type": "stream",
     "text": [
      "Legitimate transactions only: (569877, 394)\n"
     ]
    }
   ],
   "source": [
    "\n",
    "# === Filter Legitimate Transactions Only ===\n",
    "df_legit = df[df[\"isFraud\"] == 0].copy()\n",
    "print(\"Legitimate transactions only:\", df_legit.shape)\n"
   ]
  },
  {
   "cell_type": "code",
   "execution_count": 5,
   "id": "869d677b",
   "metadata": {},
   "outputs": [],
   "source": [
    "\n",
    "# === Compute Frequency Maps ===\n",
    "product_freq = df_legit[\"ProductCD\"].value_counts(normalize=True).to_dict()\n",
    "email_freq = df_legit[\"P_emaildomain\"].str.lower().value_counts(normalize=True).to_dict()\n"
   ]
  },
  {
   "cell_type": "code",
   "execution_count": 8,
   "id": "511b654a",
   "metadata": {},
   "outputs": [
    {
     "name": "stdout",
     "output_type": "stream",
     "text": [
      "Product frequency map: {'W': 0.7557788786001189, 'C': 0.10618256220201903, 'R': 0.06365057722982327, 'H': 0.05518734744515044, 'S': 0.019200634522888272}\n",
      "Email frequency map: {'gmail.com': 0.45672726056071483, 'yahoo.com': 0.20626250755419678, 'hotmail.com': 0.0896131623906602, 'anonymous.com': 0.07557124365604305, 'aol.com': 0.057865670174880965, 'comcast.net': 0.01598039359195, 'icloud.com': 0.012693141730324061, 'outlook.com': 0.009648460616757039, 'att.net': 0.008370781935170877, 'msn.com': 0.008368690808032438, 'sbcglobal.net': 0.006185554075502237, 'live.com': 0.006183462948363798, 'verizon.net': 0.005610494112431542, 'ymail.com': 0.004905784266777635, 'bellsouth.net': 0.0038811319689425797, 'yahoo.com.mx': 0.003193151140396185, 'me.com': 0.0031262350719661403, 'cox.net': 0.0028522974168306457, 'optonline.net': 0.0020785803756082567, 'charter.net': 0.001654081566505162, 'live.com.mx': 0.0014805180140147341, 'rocketmail.com': 0.001384326165646545, 'earthlink.net': 0.0010518369506347617, 'gmail': 0.0010141966621428616, 'mail.com': 0.0009472805937128172, 'mac.com': 0.0008824556524212115, 'outlook.es': 0.0007967194397452171, 'juno.com': 0.0006607961757466892, 'windstream.net': 0.0006377937772238614, 'roadrunner.com': 0.0006315203958085448, 'hotmail.fr': 0.0006168825058394725, 'hotmail.es': 0.0005959712344550836, 'aim.com': 0.0005750599630706948, 'frontier.com': 0.0005687865816553781, 'embarqmail.com': 0.0005248729117481614, 'web.de': 0.0005018705132253336, 'twc.com': 0.00048095924184094466, 'netzero.com': 0.00048095924184094466, 'prodigy.net.mx': 0.0004307721905184113, 'centurylink.net': 0.0004286810633799724, 'netzero.net': 0.00040776979199558353, 'frontiernet.net': 0.0003973141563033891, 'q.com': 0.0003952230291649502, 'cfl.rr.com': 0.0003596738678114891, 'suddenlink.net': 0.0003575827406730502, 'sc.rr.com': 0.00034085372356553904, 'cableone.net': 0.00032621583359646684, 'gmx.de': 0.0003115779436273946, 'yahoo.fr': 0.0002885755451045668, 'yahoo.es': 0.00027602878227393345, 'hotmail.co.uk': 0.00023420623950515568, 'yahoo.de': 0.00015474340824447785, 'ptd.net': 0.00014219664541384453, 'live.fr': 0.00011710311975257784, 'yahoo.co.uk': 0.00010246522978350561, 'protonmail.com': 9.410072122975005e-05, 'hotmail.de': 8.991846695287227e-05, 'servicios-ta.com': 7.318944984536115e-05, 'yahoo.co.jp': 6.691606843004448e-05}\n"
     ]
    }
   ],
   "source": [
    "print(\"Product frequency map:\", product_freq)\n",
    "print(\"Email frequency map:\", email_freq)"
   ]
  },
  {
   "cell_type": "code",
   "execution_count": 6,
   "id": "cf499ec5",
   "metadata": {},
   "outputs": [],
   "source": [
    "\n",
    "# === Save Frequency Maps ===\n",
    "freq_maps = {\n",
    "    \"ProductCD\": product_freq,\n",
    "    \"P_emaildomain\": email_freq\n",
    "}\n"
   ]
  },
  {
   "cell_type": "code",
   "execution_count": 7,
   "id": "d3268a6d",
   "metadata": {},
   "outputs": [
    {
     "name": "stdout",
     "output_type": "stream",
     "text": [
      "Frequency maps saved to: C:\\Users\\jonat\\fraud-detection-project\\data\\processed\\frequency_maps.pkl\n"
     ]
    }
   ],
   "source": [
    "\n",
    "joblib.dump(freq_maps, output_path)\n",
    "print(f\"Frequency maps saved to: {output_path}\")\n"
   ]
  },
  {
   "cell_type": "code",
   "execution_count": null,
   "id": "a0fe8efe",
   "metadata": {},
   "outputs": [],
   "source": []
  }
 ],
 "metadata": {
  "kernelspec": {
   "display_name": "base",
   "language": "python",
   "name": "python3"
  },
  "language_info": {
   "codemirror_mode": {
    "name": "ipython",
    "version": 3
   },
   "file_extension": ".py",
   "mimetype": "text/x-python",
   "name": "python",
   "nbconvert_exporter": "python",
   "pygments_lexer": "ipython3",
   "version": "3.12.7"
  }
 },
 "nbformat": 4,
 "nbformat_minor": 5
}
