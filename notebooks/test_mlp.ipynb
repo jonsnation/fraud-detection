{
 "cells": [
  {
   "cell_type": "code",
   "execution_count": 1,
   "id": "5ccb883e",
   "metadata": {},
   "outputs": [],
   "source": [
    "import joblib\n",
    "import numpy as np\n",
    "import pandas as pd\n",
    "from pathlib import Path\n"
   ]
  },
  {
   "cell_type": "code",
   "execution_count": 2,
   "id": "75050b31",
   "metadata": {},
   "outputs": [],
   "source": [
    "\n",
    "# === Paths ===\n",
    "model_path = Path(\"C:/Users/jonat/fraud-detection-project/models/trained_model_manual_fields/mlp_manual_model.pkl\")\n",
    "preprocessor_path = Path(\"C:/Users/jonat/fraud-detection-project/models/trained_model_manual_fields/preprocessor_manual.pkl\")\n",
    "freq_map_path = Path(\"C:/Users/jonat/fraud-detection-project/data/processed/frequency_maps.pkl\")\n"
   ]
  },
  {
   "cell_type": "code",
   "execution_count": 3,
   "id": "c8046ca7",
   "metadata": {},
   "outputs": [],
   "source": [
    "\n",
    "# === Load model, preprocessor, and frequency maps ===\n",
    "model = joblib.load(model_path)\n",
    "preprocessor = joblib.load(preprocessor_path)\n",
    "frequency_maps = joblib.load(freq_map_path)\n",
    "\n",
    "product_freq_map = frequency_maps[\"ProductCD\"]\n",
    "email_freq_map = frequency_maps[\"P_emaildomain\"]\n"
   ]
  },
  {
   "cell_type": "code",
   "execution_count": 4,
   "id": "6e9977bd",
   "metadata": {},
   "outputs": [],
   "source": [
    "\n",
    "# === Sample raw input (simulate one from frontend) ===\n",
    "raw_input = {\n",
    "    \"TransactionAmt\": 100.0,\n",
    "    \"card1\": 4444,\n",
    "    \"addr1\": 300,\n",
    "    \"dist1\": 15.2,\n",
    "    \"ProductCD\": \"W\",\n",
    "    \"P_emaildomain\": \"gmail.com\"\n",
    "}\n"
   ]
  },
  {
   "cell_type": "code",
   "execution_count": 5,
   "id": "490688f9",
   "metadata": {},
   "outputs": [],
   "source": [
    "\n",
    "# === Map raw to frequency-encoded inputs ===\n",
    "mapped_input = {\n",
    "    \"TransactionAmt\": raw_input[\"TransactionAmt\"],\n",
    "    \"card1\": raw_input[\"card1\"],\n",
    "    \"addr1\": raw_input[\"addr1\"],\n",
    "    \"dist1\": raw_input[\"dist1\"],\n",
    "    \"ProductCD_freq\": product_freq_map.get(raw_input[\"ProductCD\"], 0),\n",
    "    \"P_emaildomain_freq\": email_freq_map.get(raw_input[\"P_emaildomain\"].lower(), 0)\n",
    "}\n"
   ]
  },
  {
   "cell_type": "code",
   "execution_count": 6,
   "id": "c0b96d1f",
   "metadata": {},
   "outputs": [
    {
     "name": "stdout",
     "output_type": "stream",
     "text": [
      "=== Mapped Input ===\n",
      "   TransactionAmt  card1  addr1  dist1  ProductCD_freq  P_emaildomain_freq\n",
      "0           100.0   4444    300   15.2        0.744522            0.386688\n",
      "\n",
      "=== Transformed Input ===\n",
      "[[1.05338054e+02 4.73693522e+03 3.33295129e+02 1.66760922e+01\n",
      "  9.66493709e-01 3.10438431e-01]]\n",
      "Shape: (1, 6)\n"
     ]
    }
   ],
   "source": [
    "\n",
    "# === Create DataFrame and preprocess ===\n",
    "input_df = pd.DataFrame([mapped_input])\n",
    "input_processed = preprocessor.transform(input_df)\n",
    "\n",
    "print(\"=== Mapped Input ===\")\n",
    "print(input_df)\n",
    "print(\"\\n=== Transformed Input ===\")\n",
    "print(input_processed)\n",
    "print(\"Shape:\", input_processed.shape)\n"
   ]
  },
  {
   "cell_type": "code",
   "execution_count": 7,
   "id": "65f69b1a",
   "metadata": {},
   "outputs": [
    {
     "name": "stdout",
     "output_type": "stream",
     "text": [
      "\n",
      "=== Prediction Result ===\n",
      "Prediction (0=legit, 1=fraud): 0\n",
      "Fraud Probability: 0.0\n"
     ]
    }
   ],
   "source": [
    "\n",
    "# === Run Prediction ===\n",
    "prob = model.predict_proba(input_processed)[0][1]\n",
    "pred = model.predict(input_processed)[0]\n",
    "\n",
    "print(\"\\n=== Prediction Result ===\")\n",
    "print(\"Prediction (0=legit, 1=fraud):\", int(pred))\n",
    "print(\"Fraud Probability:\", round(prob, 4))\n"
   ]
  }
 ],
 "metadata": {
  "kernelspec": {
   "display_name": "base",
   "language": "python",
   "name": "python3"
  },
  "language_info": {
   "codemirror_mode": {
    "name": "ipython",
    "version": 3
   },
   "file_extension": ".py",
   "mimetype": "text/x-python",
   "name": "python",
   "nbconvert_exporter": "python",
   "pygments_lexer": "ipython3",
   "version": "3.12.7"
  }
 },
 "nbformat": 4,
 "nbformat_minor": 5
}
