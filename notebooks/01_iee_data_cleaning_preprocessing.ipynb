{
 "cells": [
  {
   "cell_type": "code",
   "execution_count": 1,
   "metadata": {},
   "outputs": [
    {
     "name": "stdout",
     "output_type": "stream",
     "text": [
      "Project root set to: C:\\Users\\jonat\\fraud-detection-project\n"
     ]
    }
   ],
   "source": [
    "import sys\n",
    "from pathlib import Path\n",
    "\n",
    "# Resolve current working directory (for notebooks)\n",
    "project_root = Path().resolve()\n",
    "\n",
    "# Walk up until 'src/' is found\n",
    "while not (project_root / 'src').exists() and project_root != project_root.parent:\n",
    "    project_root = project_root.parent\n",
    "\n",
    "# Add to Python path\n",
    "sys.path.append(str(project_root))\n",
    "\n",
    "print(\"Project root set to:\", project_root)\n"
   ]
  },
  {
   "cell_type": "code",
   "execution_count": 2,
   "metadata": {},
   "outputs": [],
   "source": [
    "import pandas as pd\n",
    "from pathlib import Path\n",
    "import matplotlib.pyplot as plt\n",
    "# !pip install xgboost\n",
    "\n",
    "from src.data_loader import load_raw_data, merge_data\n",
    "from src.preprocessing import drop_high_missing, build_preprocessor\n",
    "from src.utils import add_missing_flags, frequency_encode\n",
    "from src.training import apply_smote, train_and_evaluate\n",
    "import joblib\n",
    "\n"
   ]
  },
  {
   "cell_type": "code",
   "execution_count": 3,
   "metadata": {},
   "outputs": [],
   "source": [
    "raw_dir = project_root / \"data\" / \"raw\"\n",
    "processed_dir = project_root / \"data\" / \"processed\"\n",
    "model_dir = project_root / \"models\" / \"trained_model\"\n",
    "model_dir.mkdir(parents=True, exist_ok=True)"
   ]
  },
  {
   "cell_type": "code",
   "execution_count": 4,
   "metadata": {},
   "outputs": [
    {
     "name": "stdout",
     "output_type": "stream",
     "text": [
      "Loaded transaction shape: (590540, 394)\n",
      "Loaded identity shape: (144233, 41)\n",
      "Transaction columns: ['TransactionID', 'isFraud', 'TransactionDT', 'TransactionAmt', 'ProductCD', 'card1', 'card2', 'card3', 'card4', 'card5', 'card6', 'addr1', 'addr2', 'dist1', 'dist2', 'P_emaildomain', 'R_emaildomain', 'C1', 'C2', 'C3', 'C4', 'C5', 'C6', 'C7', 'C8', 'C9', 'C10', 'C11', 'C12', 'C13', 'C14', 'D1', 'D2', 'D3', 'D4', 'D5', 'D6', 'D7', 'D8', 'D9', 'D10', 'D11', 'D12', 'D13', 'D14', 'D15', 'M1', 'M2', 'M3', 'M4', 'M5', 'M6', 'M7', 'M8', 'M9', 'V1', 'V2', 'V3', 'V4', 'V5', 'V6', 'V7', 'V8', 'V9', 'V10', 'V11', 'V12', 'V13', 'V14', 'V15', 'V16', 'V17', 'V18', 'V19', 'V20', 'V21', 'V22', 'V23', 'V24', 'V25', 'V26', 'V27', 'V28', 'V29', 'V30', 'V31', 'V32', 'V33', 'V34', 'V35', 'V36', 'V37', 'V38', 'V39', 'V40', 'V41', 'V42', 'V43', 'V44', 'V45', 'V46', 'V47', 'V48', 'V49', 'V50', 'V51', 'V52', 'V53', 'V54', 'V55', 'V56', 'V57', 'V58', 'V59', 'V60', 'V61', 'V62', 'V63', 'V64', 'V65', 'V66', 'V67', 'V68', 'V69', 'V70', 'V71', 'V72', 'V73', 'V74', 'V75', 'V76', 'V77', 'V78', 'V79', 'V80', 'V81', 'V82', 'V83', 'V84', 'V85', 'V86', 'V87', 'V88', 'V89', 'V90', 'V91', 'V92', 'V93', 'V94', 'V95', 'V96', 'V97', 'V98', 'V99', 'V100', 'V101', 'V102', 'V103', 'V104', 'V105', 'V106', 'V107', 'V108', 'V109', 'V110', 'V111', 'V112', 'V113', 'V114', 'V115', 'V116', 'V117', 'V118', 'V119', 'V120', 'V121', 'V122', 'V123', 'V124', 'V125', 'V126', 'V127', 'V128', 'V129', 'V130', 'V131', 'V132', 'V133', 'V134', 'V135', 'V136', 'V137', 'V138', 'V139', 'V140', 'V141', 'V142', 'V143', 'V144', 'V145', 'V146', 'V147', 'V148', 'V149', 'V150', 'V151', 'V152', 'V153', 'V154', 'V155', 'V156', 'V157', 'V158', 'V159', 'V160', 'V161', 'V162', 'V163', 'V164', 'V165', 'V166', 'V167', 'V168', 'V169', 'V170', 'V171', 'V172', 'V173', 'V174', 'V175', 'V176', 'V177', 'V178', 'V179', 'V180', 'V181', 'V182', 'V183', 'V184', 'V185', 'V186', 'V187', 'V188', 'V189', 'V190', 'V191', 'V192', 'V193', 'V194', 'V195', 'V196', 'V197', 'V198', 'V199', 'V200', 'V201', 'V202', 'V203', 'V204', 'V205', 'V206', 'V207', 'V208', 'V209', 'V210', 'V211', 'V212', 'V213', 'V214', 'V215', 'V216', 'V217', 'V218', 'V219', 'V220', 'V221', 'V222', 'V223', 'V224', 'V225', 'V226', 'V227', 'V228', 'V229', 'V230', 'V231', 'V232', 'V233', 'V234', 'V235', 'V236', 'V237', 'V238', 'V239', 'V240', 'V241', 'V242', 'V243', 'V244', 'V245', 'V246', 'V247', 'V248', 'V249', 'V250', 'V251', 'V252', 'V253', 'V254', 'V255', 'V256', 'V257', 'V258', 'V259', 'V260', 'V261', 'V262', 'V263', 'V264', 'V265', 'V266', 'V267', 'V268', 'V269', 'V270', 'V271', 'V272', 'V273', 'V274', 'V275', 'V276', 'V277', 'V278', 'V279', 'V280', 'V281', 'V282', 'V283', 'V284', 'V285', 'V286', 'V287', 'V288', 'V289', 'V290', 'V291', 'V292', 'V293', 'V294', 'V295', 'V296', 'V297', 'V298', 'V299', 'V300', 'V301', 'V302', 'V303', 'V304', 'V305', 'V306', 'V307', 'V308', 'V309', 'V310', 'V311', 'V312', 'V313', 'V314', 'V315', 'V316', 'V317', 'V318', 'V319', 'V320', 'V321', 'V322', 'V323', 'V324', 'V325', 'V326', 'V327', 'V328', 'V329', 'V330', 'V331', 'V332', 'V333', 'V334', 'V335', 'V336', 'V337', 'V338', 'V339']\n",
      "Identity columns: ['TransactionID', 'id_01', 'id_02', 'id_03', 'id_04', 'id_05', 'id_06', 'id_07', 'id_08', 'id_09', 'id_10', 'id_11', 'id_12', 'id_13', 'id_14', 'id_15', 'id_16', 'id_17', 'id_18', 'id_19', 'id_20', 'id_21', 'id_22', 'id_23', 'id_24', 'id_25', 'id_26', 'id_27', 'id_28', 'id_29', 'id_30', 'id_31', 'id_32', 'id_33', 'id_34', 'id_35', 'id_36', 'id_37', 'id_38', 'DeviceType', 'DeviceInfo']\n",
      "Transaction sample:\n",
      "   TransactionID  isFraud  TransactionDT  TransactionAmt ProductCD  card1  \\\n",
      "0         987000        0          86400            68.5         W  13926   \n",
      "1        2987001        0          86401            29.0         W   2755   \n",
      "2        2987002        0          86469            59.0         W   4663   \n",
      "3        2987003        0          86499            50.0         W  18132   \n",
      "4        2987004        0          86506            50.0         H   4497   \n",
      "\n",
      "   card2  card3       card4  card5  ... V330  V331  V332  V333  V334 V335  \\\n",
      "0    NaN  150.0    discover  142.0  ...  NaN   NaN   NaN   NaN   NaN  NaN   \n",
      "1  404.0  150.0  mastercard  102.0  ...  NaN   NaN   NaN   NaN   NaN  NaN   \n",
      "2  490.0  150.0        visa  166.0  ...  NaN   NaN   NaN   NaN   NaN  NaN   \n",
      "3  567.0  150.0  mastercard  117.0  ...  NaN   NaN   NaN   NaN   NaN  NaN   \n",
      "4  514.0  150.0  mastercard  102.0  ...  0.0   0.0   0.0   0.0   0.0  0.0   \n",
      "\n",
      "  V336  V337  V338  V339  \n",
      "0  NaN   NaN   NaN   NaN  \n",
      "1  NaN   NaN   NaN   NaN  \n",
      "2  NaN   NaN   NaN   NaN  \n",
      "3  NaN   NaN   NaN   NaN  \n",
      "4  0.0   0.0   0.0   0.0  \n",
      "\n",
      "[5 rows x 394 columns]\n",
      "Identity sample:\n",
      "   TransactionID  id_01     id_02  id_03  id_04  id_05  id_06  id_07  id_08  \\\n",
      "0        2987004    0.0   70787.0    NaN    NaN    NaN    NaN    NaN    NaN   \n",
      "1        2987008   -5.0   98945.0    NaN    NaN    0.0   -5.0    NaN    NaN   \n",
      "2        2987010   -5.0  191631.0    0.0    0.0    0.0    0.0    NaN    NaN   \n",
      "3        2987011   -5.0  221832.0    NaN    NaN    0.0   -6.0    NaN    NaN   \n",
      "4        2987016    0.0    7460.0    0.0    0.0    1.0    0.0    NaN    NaN   \n",
      "\n",
      "   id_09  ...                id_31  id_32      id_33           id_34  id_35  \\\n",
      "0    NaN  ...  samsung browser 6.2   32.0  2220x1080  match_status:2      T   \n",
      "1    NaN  ...   mobile safari 11.0   32.0   1334x750  match_status:1      T   \n",
      "2    0.0  ...          chrome 62.0    NaN        NaN             NaN      F   \n",
      "3    NaN  ...          chrome 62.0    NaN        NaN             NaN      F   \n",
      "4    0.0  ...          chrome 62.0   24.0   1280x800  match_status:2      T   \n",
      "\n",
      "  id_36 id_37  id_38  DeviceType                     DeviceInfo  \n",
      "0     F     T      T      mobile  SAMSUNG SM-G892A Build/NRD90M  \n",
      "1     F     F      T      mobile                     iOS Device  \n",
      "2     F     T      T     desktop                        Windows  \n",
      "3     F     T      T     desktop                            NaN  \n",
      "4     F     T      T     desktop                          MacOS  \n",
      "\n",
      "[5 rows x 41 columns]\n"
     ]
    }
   ],
   "source": [
    "# Load raw data\n",
    "transaction, identity = load_raw_data(raw_dir)\n",
    "print(\"Transaction sample:\")\n",
    "print(transaction.head())\n",
    "print(\"Identity sample:\")\n",
    "print(identity.head())\n"
   ]
  },
  {
   "cell_type": "code",
   "execution_count": 5,
   "metadata": {},
   "outputs": [
    {
     "name": "stdout",
     "output_type": "stream",
     "text": [
      "Merged data shape: (590540, 434)\n",
      "Merged DataFrame info:\n",
      "<class 'pandas.core.frame.DataFrame'>\n",
      "RangeIndex: 590540 entries, 0 to 590539\n",
      "Columns: 434 entries, TransactionID to DeviceInfo\n",
      "dtypes: float64(399), int64(4), object(31)\n",
      "memory usage: 1.9+ GB\n",
      "None\n",
      "Merged sample:\n",
      "   TransactionID  isFraud  TransactionDT  TransactionAmt ProductCD  card1  \\\n",
      "0         987000        0          86400            68.5         W  13926   \n",
      "1        2987001        0          86401            29.0         W   2755   \n",
      "2        2987002        0          86469            59.0         W   4663   \n",
      "3        2987003        0          86499            50.0         W  18132   \n",
      "4        2987004        0          86506            50.0         H   4497   \n",
      "\n",
      "   card2  card3       card4  card5  ...                id_31  id_32  \\\n",
      "0    NaN  150.0    discover  142.0  ...                  NaN    NaN   \n",
      "1  404.0  150.0  mastercard  102.0  ...                  NaN    NaN   \n",
      "2  490.0  150.0        visa  166.0  ...                  NaN    NaN   \n",
      "3  567.0  150.0  mastercard  117.0  ...                  NaN    NaN   \n",
      "4  514.0  150.0  mastercard  102.0  ...  samsung browser 6.2   32.0   \n",
      "\n",
      "       id_33           id_34  id_35 id_36 id_37  id_38  DeviceType  \\\n",
      "0        NaN             NaN    NaN   NaN   NaN    NaN         NaN   \n",
      "1        NaN             NaN    NaN   NaN   NaN    NaN         NaN   \n",
      "2        NaN             NaN    NaN   NaN   NaN    NaN         NaN   \n",
      "3        NaN             NaN    NaN   NaN   NaN    NaN         NaN   \n",
      "4  2220x1080  match_status:2      T     F     T      T      mobile   \n",
      "\n",
      "                      DeviceInfo  \n",
      "0                            NaN  \n",
      "1                            NaN  \n",
      "2                            NaN  \n",
      "3                            NaN  \n",
      "4  SAMSUNG SM-G892A Build/NRD90M  \n",
      "\n",
      "[5 rows x 434 columns]\n"
     ]
    }
   ],
   "source": [
    "# Merge\n",
    "df = merge_data(transaction, identity)\n",
    "print(\"Merged DataFrame info:\")\n",
    "print(df.info())\n",
    "print(\"Merged sample:\")\n",
    "print(df.head())"
   ]
  },
  {
   "cell_type": "code",
   "execution_count": 6,
   "metadata": {},
   "outputs": [
    {
     "name": "stdout",
     "output_type": "stream",
     "text": [
      "Top missing cols:\n",
      "id_24    0.991962\n",
      "id_25    0.991310\n",
      "id_07    0.991271\n",
      "id_08    0.991271\n",
      "id_21    0.991264\n",
      "id_26    0.991257\n",
      "id_27    0.991247\n",
      "id_23    0.991247\n",
      "id_22    0.991247\n",
      "dist2    0.936284\n",
      "D7       0.934099\n",
      "id_18    0.923607\n",
      "D13      0.895093\n",
      "D14      0.894695\n",
      "D12      0.890410\n",
      "id_03    0.887689\n",
      "id_04    0.887689\n",
      "D6       0.876068\n",
      "id_33    0.875895\n",
      "id_10    0.873123\n",
      "dtype: float64\n"
     ]
    }
   ],
   "source": [
    "# Check missing\n",
    "missing = df.isnull().mean().sort_values(ascending=False)\n",
    "print(\"Top missing cols:\")\n",
    "print(missing.head(20))\n"
   ]
  },
  {
   "cell_type": "code",
   "execution_count": 7,
   "metadata": {},
   "outputs": [
    {
     "name": "stdout",
     "output_type": "stream",
     "text": [
      "Dropped 74 high-missing columns\n",
      "After drop: (590540, 360)\n"
     ]
    }
   ],
   "source": [
    "# Drop high missing\n",
    "df = drop_high_missing(df)\n",
    "print(\"After drop:\", df.shape)\n"
   ]
  },
  {
   "cell_type": "code",
   "execution_count": 8,
   "metadata": {},
   "outputs": [
    {
     "name": "stdout",
     "output_type": "stream",
     "text": [
      "After adding flags: (590540, 360)\n"
     ]
    }
   ],
   "source": [
    "# Add missing flags\n",
    "df = add_missing_flags(df)\n",
    "print(\"After adding flags:\", df.shape)"
   ]
  },
  {
   "cell_type": "code",
   "execution_count": 9,
   "metadata": {},
   "outputs": [
    {
     "name": "stdout",
     "output_type": "stream",
     "text": [
      "Categorical columns to encode: ['ProductCD', 'card4', 'card6', 'P_emaildomain', 'R_emaildomain', 'M1', 'M2', 'M3', 'M4', 'M5', 'M6', 'M7', 'M8', 'M9', 'id_12', 'id_15', 'id_16', 'id_28', 'id_29', 'id_31', 'id_35', 'id_36', 'id_37', 'id_38', 'DeviceType', 'DeviceInfo']\n",
      "Shape after encoding and dropping cat columns: (590540, 359)\n"
     ]
    }
   ],
   "source": [
    "# Frequency encode object columns\n",
    "cat_cols = df.select_dtypes(include='object').columns.tolist()\n",
    "print(\"Categorical columns to encode:\", cat_cols)\n",
    "df = frequency_encode(df, cat_cols, max_unique=500)\n",
    "df.drop(columns=cat_cols, inplace=True)\n",
    "print(\"Shape after encoding and dropping cat columns:\", df.shape)"
   ]
  },
  {
   "cell_type": "code",
   "execution_count": 10,
   "metadata": {},
   "outputs": [
    {
     "name": "stdout",
     "output_type": "stream",
     "text": [
      "X shape: (590540, 357)\n",
      "y value counts:\n",
      "isFraud\n",
      "0    569877\n",
      "1     20663\n",
      "Name: count, dtype: int64\n"
     ]
    }
   ],
   "source": [
    "# Extract target and features\n",
    "target = 'isFraud'\n",
    "X = df.drop(columns=['TransactionID', target])\n",
    "y = df[target]\n",
    "print(\"X shape:\", X.shape)\n",
    "print(\"y value counts:\")\n",
    "print(y.value_counts())"
   ]
  },
  {
   "cell_type": "code",
   "execution_count": 11,
   "metadata": {},
   "outputs": [
    {
     "name": "stdout",
     "output_type": "stream",
     "text": [
      "Processed X shape: (590540, 357)\n"
     ]
    }
   ],
   "source": [
    "# Preprocessing\n",
    "preprocessor, num_cols, cat_cols = build_preprocessor(X)\n",
    "X_processed = preprocessor.fit_transform(X)\n",
    "print(\"Processed X shape:\", X_processed.shape)"
   ]
  },
  {
   "cell_type": "code",
   "execution_count": 12,
   "metadata": {},
   "outputs": [
    {
     "name": "stdout",
     "output_type": "stream",
     "text": [
      "Preprocessor and feature columns saved.\n"
     ]
    }
   ],
   "source": [
    "joblib.dump(preprocessor, processed_dir / \"preprocessor.pkl\")\n",
    "joblib.dump(X.columns.tolist(), processed_dir / \"feature_columns.pkl\")\n",
    "print(\"Preprocessor and feature columns saved.\")"
   ]
  },
  {
   "cell_type": "code",
   "execution_count": 13,
   "metadata": {},
   "outputs": [
    {
     "name": "stdout",
     "output_type": "stream",
     "text": [
      "Saved preprocessed datasets to: C:\\Users\\jonat\\fraud-detection-project\\data\\processed\n"
     ]
    }
   ],
   "source": [
    "# Save processed (pre-SMOTE) data\n",
    "pd.DataFrame(X_processed).to_csv(processed_dir / \"X_processed.csv\", index=False)\n",
    "y.to_csv(processed_dir / \"y_processed.csv\", index=False)\n",
    "pd.concat([pd.DataFrame(X_processed), y.reset_index(drop=True)], axis=1).to_csv(\n",
    "    processed_dir / \"processed_full.csv\", index=False\n",
    ")\n",
    "print(\"Saved preprocessed datasets to:\", processed_dir)"
   ]
  },
  {
   "cell_type": "code",
   "execution_count": 14,
   "metadata": {},
   "outputs": [
    {
     "name": "stdout",
     "output_type": "stream",
     "text": [
      "Applied SMOTE. New class balance:\n",
      "isFraud\n",
      "0    569877\n",
      "1    569877\n",
      "Name: count, dtype: int64\n",
      "After SMOTE - X shape: (1139754, 357)\n",
      "After SMOTE - y distribution:\n",
      " isFraud\n",
      "0    569877\n",
      "1    569877\n",
      "Name: count, dtype: int64\n"
     ]
    }
   ],
   "source": [
    "# Apply SMOTE\n",
    "X_bal, y_bal = apply_smote(X_processed, y)\n",
    "print(\"After SMOTE - X shape:\", X_bal.shape)\n",
    "print(\"After SMOTE - y distribution:\\n\", pd.Series(y_bal).value_counts())"
   ]
  },
  {
   "cell_type": "code",
   "execution_count": 15,
   "metadata": {},
   "outputs": [
    {
     "name": "stdout",
     "output_type": "stream",
     "text": [
      "Saved SMOTE-balanced datasets to: C:\\Users\\jonat\\fraud-detection-project\\data\\processed\n"
     ]
    }
   ],
   "source": [
    "# Save SMOTE-balanced datasets\n",
    "pd.DataFrame(X_bal).to_csv(processed_dir / \"X_smote.csv\", index=False)\n",
    "pd.Series(y_bal).to_csv(processed_dir / \"y_smote.csv\", index=False)\n",
    "print(\"Saved SMOTE-balanced datasets to:\", processed_dir)"
   ]
  },
  {
   "cell_type": "code",
   "execution_count": 16,
   "metadata": {},
   "outputs": [
    {
     "data": {
      "image/png": "[encoded data removed]",
      "text/plain": [
       "<Figure size 640x480 with 1 Axes>"
      ]
     },
     "metadata": {},
     "output_type": "display_data"
    }
   ],
   "source": [
    "# Plot fraud distribution\n",
    "y.value_counts(normalize=True).plot(kind='bar')\n",
    "plt.title(\"Fraud Distribution (Original)\")\n",
    "plt.show()\n"
   ]
  },
  {
   "cell_type": "code",
   "execution_count": 17,
   "metadata": {},
   "outputs": [
    {
     "data": {
      "image/png": "[encoded data removed]",
      "text/plain": [
       "<Figure size 640x480 with 1 Axes>"
      ]
     },
     "metadata": {},
     "output_type": "display_data"
    }
   ],
   "source": [
    "y_bal.value_counts(normalize=True).plot(kind='bar')\n",
    "plt.title(\"Fraud Distribution (After SMOTE)\")\n",
    "plt.show()"
   ]
  },
  {
   "cell_type": "code",
   "execution_count": null,
   "metadata": {},
   "outputs": [],
   "source": []
  }
 ],
 "metadata": {
  "kernelspec": {
   "display_name": "base",
   "language": "python",
   "name": "python3"
  },
  "language_info": {
   "codemirror_mode": {
    "name": "ipython",
    "version": 3
   },
   "file_extension": ".py",
   "mimetype": "text/x-python",
   "name": "python",
   "nbconvert_exporter": "python",
   "pygments_lexer": "ipython3",
   "version": "3.12.7"
  }
 },
 "nbformat": 4,
 "nbformat_minor": 2
}
