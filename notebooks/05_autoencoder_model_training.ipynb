{
 "cells": [
  {
   "cell_type": "markdown",
   "id": "4c957ce8",
   "metadata": {},
   "source": [
    "# Autoencoder Anomoly Detection"
   ]
  },
  {
   "cell_type": "code",
   "execution_count": 26,
   "id": "35a21869",
   "metadata": {},
   "outputs": [
    {
     "name": "stdout",
     "output_type": "stream",
     "text": [
      "Requirement already satisfied: tensorflow in c:\\users\\danar\\anaconda3\\lib\\site-packages (2.19.0)Note: you may need to restart the kernel to use updated packages.\n",
      "\n",
      "Requirement already satisfied: absl-py>=1.0.0 in c:\\users\\danar\\anaconda3\\lib\\site-packages (from tensorflow) (2.2.2)\n",
      "Requirement already satisfied: astunparse>=1.6.0 in c:\\users\\danar\\anaconda3\\lib\\site-packages (from tensorflow) (1.6.3)\n",
      "Requirement already satisfied: flatbuffers>=24.3.25 in c:\\users\\danar\\anaconda3\\lib\\site-packages (from tensorflow) (25.2.10)\n",
      "Requirement already satisfied: gast!=0.5.0,!=0.5.1,!=0.5.2,>=0.2.1 in c:\\users\\danar\\anaconda3\\lib\\site-packages (from tensorflow) (0.6.0)\n",
      "Requirement already satisfied: google-pasta>=0.1.1 in c:\\users\\danar\\anaconda3\\lib\\site-packages (from tensorflow) (0.2.0)\n",
      "Requirement already satisfied: libclang>=13.0.0 in c:\\users\\danar\\anaconda3\\lib\\site-packages (from tensorflow) (18.1.1)\n",
      "Requirement already satisfied: opt-einsum>=2.3.2 in c:\\users\\danar\\anaconda3\\lib\\site-packages (from tensorflow) (3.4.0)\n",
      "Requirement already satisfied: packaging in c:\\users\\danar\\anaconda3\\lib\\site-packages (from tensorflow) (23.1)\n",
      "Requirement already satisfied: protobuf!=4.21.0,!=4.21.1,!=4.21.2,!=4.21.3,!=4.21.4,!=4.21.5,<6.0.0dev,>=3.20.3 in c:\\users\\danar\\anaconda3\\lib\\site-packages (from tensorflow) (3.20.3)\n",
      "Requirement already satisfied: requests<3,>=2.21.0 in c:\\users\\danar\\anaconda3\\lib\\site-packages (from tensorflow) (2.32.3)\n",
      "Requirement already satisfied: setuptools in c:\\users\\danar\\anaconda3\\lib\\site-packages (from tensorflow) (68.2.2)\n",
      "Requirement already satisfied: six>=1.12.0 in c:\\users\\danar\\anaconda3\\lib\\site-packages (from tensorflow) (1.16.0)\n",
      "Requirement already satisfied: termcolor>=1.1.0 in c:\\users\\danar\\anaconda3\\lib\\site-packages (from tensorflow) (3.0.1)\n",
      "Requirement already satisfied: typing-extensions>=3.6.6 in c:\\users\\danar\\anaconda3\\lib\\site-packages (from tensorflow) (4.12.2)\n",
      "Requirement already satisfied: wrapt>=1.11.0 in c:\\users\\danar\\anaconda3\\lib\\site-packages (from tensorflow) (1.14.1)\n",
      "Requirement already satisfied: grpcio<2.0,>=1.24.3 in c:\\users\\danar\\anaconda3\\lib\\site-packages (from tensorflow) (1.71.0)\n",
      "Requirement already satisfied: tensorboard~=2.19.0 in c:\\users\\danar\\anaconda3\\lib\\site-packages (from tensorflow) (2.19.0)\n",
      "Requirement already satisfied: keras>=3.5.0 in c:\\users\\danar\\anaconda3\\lib\\site-packages (from tensorflow) (3.9.2)\n",
      "Requirement already satisfied: numpy<2.2.0,>=1.26.0 in c:\\users\\danar\\anaconda3\\lib\\site-packages (from tensorflow) (1.26.4)\n",
      "Requirement already satisfied: h5py>=3.11.0 in c:\\users\\danar\\anaconda3\\lib\\site-packages (from tensorflow) (3.13.0)\n",
      "Requirement already satisfied: ml-dtypes<1.0.0,>=0.5.1 in c:\\users\\danar\\anaconda3\\lib\\site-packages (from tensorflow) (0.5.1)\n",
      "Requirement already satisfied: tensorflow-io-gcs-filesystem>=0.23.1 in c:\\users\\danar\\anaconda3\\lib\\site-packages (from tensorflow) (0.31.0)\n",
      "Requirement already satisfied: wheel<1.0,>=0.23.0 in c:\\users\\danar\\anaconda3\\lib\\site-packages (from astunparse>=1.6.0->tensorflow) (0.41.2)\n",
      "Requirement already satisfied: rich in c:\\users\\danar\\anaconda3\\lib\\site-packages (from keras>=3.5.0->tensorflow) (13.3.5)\n",
      "Requirement already satisfied: namex in c:\\users\\danar\\anaconda3\\lib\\site-packages (from keras>=3.5.0->tensorflow) (0.0.9)\n",
      "Requirement already satisfied: optree in c:\\users\\danar\\anaconda3\\lib\\site-packages (from keras>=3.5.0->tensorflow) (0.15.0)\n",
      "Requirement already satisfied: charset-normalizer<4,>=2 in c:\\users\\danar\\anaconda3\\lib\\site-packages (from requests<3,>=2.21.0->tensorflow) (2.0.4)\n",
      "Requirement already satisfied: idna<4,>=2.5 in c:\\users\\danar\\anaconda3\\lib\\site-packages (from requests<3,>=2.21.0->tensorflow) (3.4)\n",
      "Requirement already satisfied: urllib3<3,>=1.21.1 in c:\\users\\danar\\anaconda3\\lib\\site-packages (from requests<3,>=2.21.0->tensorflow) (2.0.7)\n",
      "Requirement already satisfied: certifi>=2017.4.17 in c:\\users\\danar\\anaconda3\\lib\\site-packages (from requests<3,>=2.21.0->tensorflow) (2024.12.14)\n",
      "Requirement already satisfied: markdown>=2.6.8 in c:\\users\\danar\\anaconda3\\lib\\site-packages (from tensorboard~=2.19.0->tensorflow) (3.4.1)\n",
      "Requirement already satisfied: tensorboard-data-server<0.8.0,>=0.7.0 in c:\\users\\danar\\anaconda3\\lib\\site-packages (from tensorboard~=2.19.0->tensorflow) (0.7.2)\n",
      "Requirement already satisfied: werkzeug>=1.0.1 in c:\\users\\danar\\anaconda3\\lib\\site-packages (from tensorboard~=2.19.0->tensorflow) (2.2.3)\n",
      "Requirement already satisfied: MarkupSafe>=2.1.1 in c:\\users\\danar\\anaconda3\\lib\\site-packages (from werkzeug>=1.0.1->tensorboard~=2.19.0->tensorflow) (2.1.3)\n",
      "Requirement already satisfied: markdown-it-py<3.0.0,>=2.2.0 in c:\\users\\danar\\anaconda3\\lib\\site-packages (from rich->keras>=3.5.0->tensorflow) (2.2.0)\n",
      "Requirement already satisfied: pygments<3.0.0,>=2.13.0 in c:\\users\\danar\\anaconda3\\lib\\site-packages (from rich->keras>=3.5.0->tensorflow) (2.15.1)\n",
      "Requirement already satisfied: mdurl~=0.1 in c:\\users\\danar\\anaconda3\\lib\\site-packages (from markdown-it-py<3.0.0,>=2.2.0->rich->keras>=3.5.0->tensorflow) (0.1.0)\n"
     ]
    }
   ],
   "source": [
    "%pip install tensorflow\n",
    "import pandas as pd\n",
    "import numpy as np\n",
    "from pathlib import Path\n",
    "import joblib\n",
    "from sklearn.model_selection import train_test_split\n",
    "from sklearn.preprocessing import MinMaxScaler\n",
    "from tensorflow.keras.models import Model\n",
    "from tensorflow.keras.layers import Input, Dense\n",
    "from tensorflow.keras.optimizers import Adam\n",
    "from tensorflow.keras.losses import MeanSquaredError\n",
    "from tensorflow.keras.callbacks import EarlyStopping\n",
    "import matplotlib.pyplot as plt"
   ]
  },
  {
   "cell_type": "markdown",
   "id": "b566c93e",
   "metadata": {},
   "source": [
    "## Set Project Paths\n",
    "\n",
    "Define project-related paths for data input and model output. Using Path.cwd().parents[0] ensures the code remains flexible and adaptable to different environments."
   ]
  },
  {
   "cell_type": "code",
   "execution_count": 27,
   "id": "c164d03d",
   "metadata": {},
   "outputs": [],
   "source": [
    "# Paths\n",
    "project_root = Path.cwd().parents[0]  \n",
    "data_dir = project_root / \"data\" / \"processed\"\n",
    "model_dir = project_root / \"models\" / \"trained_model\"\n",
    "model_dir.mkdir(parents=True, exist_ok=True)\n"
   ]
  },
  {
   "cell_type": "markdown",
   "id": "300873f6",
   "metadata": {},
   "source": [
    "### Load Processed Dataset\n",
    "\n",
    "Load the preprocessed feature set X_processed.csv and labels y_processed.csv. "
   ]
  },
  {
   "cell_type": "code",
   "execution_count": 28,
   "id": "cd740918",
   "metadata": {},
   "outputs": [],
   "source": [
    "# Load original (unbalanced) dataset\n",
    "X = pd.read_csv(data_dir / \"X_processed.csv\")\n",
    "y = pd.read_csv(data_dir / \"y_processed.csv\").squeeze()"
   ]
  },
  {
   "cell_type": "markdown",
   "id": "d04c3d0c",
   "metadata": {},
   "source": [
    "## Filter Legitimate Transactions\n",
    "\n",
    "Since the autoencoder is an unsupervised model used for anomaly detection, we train it only on non-fraudulent transactions where y == 0. This way, it learns the \"normal\" behavior of the system.\n"
   ]
  },
  {
   "cell_type": "code",
   "execution_count": 29,
   "id": "989a5348",
   "metadata": {},
   "outputs": [],
   "source": [
    "# Keep only legitimate transactions for training \n",
    "X_normal = X[y == 0].copy()"
   ]
  },
  {
   "cell_type": "markdown",
   "id": "c04ad471",
   "metadata": {},
   "source": [
    "## Normalize the Features\n",
    "\n",
    "To improve model training and convergence, all features are scaled to a 0–1 range using MinMaxScaler. The fitted scaler is saved using joblib so it can apply the same transformation to new data during inference."
   ]
  },
  {
   "cell_type": "code",
   "execution_count": 30,
   "id": "88ac1254",
   "metadata": {},
   "outputs": [
    {
     "data": {
      "text/plain": [
       "['c:\\\\Users\\\\danar\\\\OneDrive - The University of the West Indies, St. Augustine\\\\UWI\\\\Year 3\\\\Semester 2\\\\Big Data\\\\fraud-detection\\\\models\\\\trained_model\\\\autoencoder_scaler.pkl']"
      ]
     },
     "execution_count": 30,
     "metadata": {},
     "output_type": "execute_result"
    }
   ],
   "source": [
    "# Normalize the features \n",
    "scaler = MinMaxScaler()\n",
    "X_scaled = scaler.fit_transform(X_normal)\n",
    "joblib.dump(scaler, model_dir / \"autoencoder_scaler.pkl\")"
   ]
  },
  {
   "cell_type": "markdown",
   "id": "f0129565",
   "metadata": {},
   "source": [
    "## Define Autoencoder Architecture\n",
    "\n",
    "To create a symmetrical autoencoder using the Keras functional API, ensure that the input layer matches the feature dimension, it includes two encoding layers to reduce the data to a compressed representation, along with two decoding layers to reconstruct the original input. Then use ReLU activations in the hidden layers and a sigmoid activation in the output to match the 0–1 normalized data range. The model would then be compiled using the Adam optimizer and Mean Squared Error loss.\n"
   ]
  },
  {
   "cell_type": "code",
   "execution_count": 31,
   "id": "521b9112",
   "metadata": {},
   "outputs": [],
   "source": [
    "# Define autoencoder architecture \n",
    "input_dim = X_scaled.shape[1]\n",
    "encoding_dim = 64\n",
    "\n",
    "input_layer = Input(shape=(input_dim,))\n",
    "encoded = Dense(encoding_dim, activation='relu')(input_layer)\n",
    "encoded = Dense(32, activation='relu')(encoded)\n",
    "decoded = Dense(encoding_dim, activation='relu')(encoded)\n",
    "output_layer = Dense(input_dim, activation='sigmoid')(decoded)\n",
    "\n",
    "autoencoder = Model(inputs=input_layer, outputs=output_layer)\n",
    "autoencoder.compile(optimizer=Adam(learning_rate=0.001), loss=MeanSquaredError())"
   ]
  },
  {
   "cell_type": "markdown",
   "id": "9ba61701",
   "metadata": {},
   "source": [
    "## Split Data for Validation\n",
    "\n",
    "The scaled data is split into training and validation sets using an 80/20 ratio. This allows for the model's performance on unseen data during training to be monitored in order to further help prevent overfitting."
   ]
  },
  {
   "cell_type": "code",
   "execution_count": 32,
   "id": "6a6040ab",
   "metadata": {},
   "outputs": [],
   "source": [
    "# Split data for validation \n",
    "X_train, X_val = train_test_split(X_scaled, test_size=0.2, random_state=42)"
   ]
  },
  {
   "cell_type": "markdown",
   "id": "081ae53d",
   "metadata": {},
   "source": [
    "## Train Autoencoder Model\n",
    "\n",
    "The autoencoder is trained to reconstruct its input. Early stopping monitors the validation loss and stops training if the model stops improving for 5 consecutive epochs. This prevents overfitting and saves the best model weights automatically.\n"
   ]
  },
  {
   "cell_type": "code",
   "execution_count": 33,
   "id": "ae34bbf1",
   "metadata": {},
   "outputs": [
    {
     "name": "stdout",
     "output_type": "stream",
     "text": [
      "Epoch 1/100\n",
      "\u001b[1m1781/1781\u001b[0m \u001b[32m━━━━━━━━━━━━━━━━━━━━\u001b[0m\u001b[37m\u001b[0m \u001b[1m9s\u001b[0m 3ms/step - loss: 0.0154 - val_loss: 0.0015\n",
      "Epoch 2/100\n",
      "\u001b[1m1781/1781\u001b[0m \u001b[32m━━━━━━━━━━━━━━━━━━━━\u001b[0m\u001b[37m\u001b[0m \u001b[1m5s\u001b[0m 3ms/step - loss: 0.0013 - val_loss: 9.6976e-04\n",
      "Epoch 3/100\n",
      "\u001b[1m1781/1781\u001b[0m \u001b[32m━━━━━━━━━━━━━━━━━━━━\u001b[0m\u001b[37m\u001b[0m \u001b[1m5s\u001b[0m 3ms/step - loss: 8.9472e-04 - val_loss: 7.5266e-04\n",
      "Epoch 4/100\n",
      "\u001b[1m1781/1781\u001b[0m \u001b[32m━━━━━━━━━━━━━━━━━━━━\u001b[0m\u001b[37m\u001b[0m \u001b[1m5s\u001b[0m 3ms/step - loss: 7.1084e-04 - val_loss: 6.3212e-04\n",
      "Epoch 5/100\n",
      "\u001b[1m1781/1781\u001b[0m \u001b[32m━━━━━━━━━━━━━━━━━━━━\u001b[0m\u001b[37m\u001b[0m \u001b[1m5s\u001b[0m 3ms/step - loss: 6.0816e-04 - val_loss: 5.5307e-04\n",
      "Epoch 6/100\n",
      "\u001b[1m1781/1781\u001b[0m \u001b[32m━━━━━━━━━━━━━━━━━━━━\u001b[0m\u001b[37m\u001b[0m \u001b[1m5s\u001b[0m 3ms/step - loss: 5.3469e-04 - val_loss: 4.9694e-04\n",
      "Epoch 7/100\n",
      "\u001b[1m1781/1781\u001b[0m \u001b[32m━━━━━━━━━━━━━━━━━━━━\u001b[0m\u001b[37m\u001b[0m \u001b[1m5s\u001b[0m 3ms/step - loss: 4.7621e-04 - val_loss: 4.5031e-04\n",
      "Epoch 8/100\n",
      "\u001b[1m1781/1781\u001b[0m \u001b[32m━━━━━━━━━━━━━━━━━━━━\u001b[0m\u001b[37m\u001b[0m \u001b[1m5s\u001b[0m 3ms/step - loss: 4.4136e-04 - val_loss: 4.2304e-04\n",
      "Epoch 9/100\n",
      "\u001b[1m1781/1781\u001b[0m \u001b[32m━━━━━━━━━━━━━━━━━━━━\u001b[0m\u001b[37m\u001b[0m \u001b[1m5s\u001b[0m 3ms/step - loss: 4.1811e-04 - val_loss: 4.0427e-04\n",
      "Epoch 10/100\n",
      "\u001b[1m1781/1781\u001b[0m \u001b[32m━━━━━━━━━━━━━━━━━━━━\u001b[0m\u001b[37m\u001b[0m \u001b[1m5s\u001b[0m 3ms/step - loss: 3.9649e-04 - val_loss: 3.8601e-04\n",
      "Epoch 11/100\n",
      "\u001b[1m1781/1781\u001b[0m \u001b[32m━━━━━━━━━━━━━━━━━━━━\u001b[0m\u001b[37m\u001b[0m \u001b[1m5s\u001b[0m 3ms/step - loss: 3.8137e-04 - val_loss: 3.6955e-04\n",
      "Epoch 12/100\n",
      "\u001b[1m1781/1781\u001b[0m \u001b[32m━━━━━━━━━━━━━━━━━━━━\u001b[0m\u001b[37m\u001b[0m \u001b[1m5s\u001b[0m 3ms/step - loss: 3.6600e-04 - val_loss: 3.6568e-04\n",
      "Epoch 13/100\n",
      "\u001b[1m1781/1781\u001b[0m \u001b[32m━━━━━━━━━━━━━━━━━━━━\u001b[0m\u001b[37m\u001b[0m \u001b[1m5s\u001b[0m 3ms/step - loss: 3.5215e-04 - val_loss: 3.4744e-04\n",
      "Epoch 14/100\n",
      "\u001b[1m1781/1781\u001b[0m \u001b[32m━━━━━━━━━━━━━━━━━━━━\u001b[0m\u001b[37m\u001b[0m \u001b[1m5s\u001b[0m 3ms/step - loss: 3.4113e-04 - val_loss: 3.3410e-04\n",
      "Epoch 15/100\n",
      "\u001b[1m1781/1781\u001b[0m \u001b[32m━━━━━━━━━━━━━━━━━━━━\u001b[0m\u001b[37m\u001b[0m \u001b[1m5s\u001b[0m 3ms/step - loss: 3.3600e-04 - val_loss: 3.3017e-04\n",
      "Epoch 16/100\n",
      "\u001b[1m1781/1781\u001b[0m \u001b[32m━━━━━━━━━━━━━━━━━━━━\u001b[0m\u001b[37m\u001b[0m \u001b[1m5s\u001b[0m 3ms/step - loss: 3.3166e-04 - val_loss: 3.2996e-04\n",
      "Epoch 17/100\n",
      "\u001b[1m1781/1781\u001b[0m \u001b[32m━━━━━━━━━━━━━━━━━━━━\u001b[0m\u001b[37m\u001b[0m \u001b[1m5s\u001b[0m 3ms/step - loss: 3.2553e-04 - val_loss: 3.3042e-04\n",
      "Epoch 18/100\n",
      "\u001b[1m1781/1781\u001b[0m \u001b[32m━━━━━━━━━━━━━━━━━━━━\u001b[0m\u001b[37m\u001b[0m \u001b[1m5s\u001b[0m 3ms/step - loss: 3.2138e-04 - val_loss: 3.1856e-04\n",
      "Epoch 19/100\n",
      "\u001b[1m1781/1781\u001b[0m \u001b[32m━━━━━━━━━━━━━━━━━━━━\u001b[0m\u001b[37m\u001b[0m \u001b[1m5s\u001b[0m 3ms/step - loss: 3.1625e-04 - val_loss: 3.1596e-04\n",
      "Epoch 20/100\n",
      "\u001b[1m1781/1781\u001b[0m \u001b[32m━━━━━━━━━━━━━━━━━━━━\u001b[0m\u001b[37m\u001b[0m \u001b[1m5s\u001b[0m 3ms/step - loss: 3.1359e-04 - val_loss: 3.1309e-04\n",
      "Epoch 21/100\n",
      "\u001b[1m1781/1781\u001b[0m \u001b[32m━━━━━━━━━━━━━━━━━━━━\u001b[0m\u001b[37m\u001b[0m \u001b[1m5s\u001b[0m 3ms/step - loss: 3.1030e-04 - val_loss: 3.1468e-04\n",
      "Epoch 22/100\n",
      "\u001b[1m1781/1781\u001b[0m \u001b[32m━━━━━━━━━━━━━━━━━━━━\u001b[0m\u001b[37m\u001b[0m \u001b[1m5s\u001b[0m 3ms/step - loss: 3.0848e-04 - val_loss: 3.0917e-04\n",
      "Epoch 23/100\n",
      "\u001b[1m1781/1781\u001b[0m \u001b[32m━━━━━━━━━━━━━━━━━━━━\u001b[0m\u001b[37m\u001b[0m \u001b[1m5s\u001b[0m 3ms/step - loss: 3.0557e-04 - val_loss: 3.0480e-04\n",
      "Epoch 24/100\n",
      "\u001b[1m1781/1781\u001b[0m \u001b[32m━━━━━━━━━━━━━━━━━━━━\u001b[0m\u001b[37m\u001b[0m \u001b[1m5s\u001b[0m 3ms/step - loss: 3.0166e-04 - val_loss: 3.0004e-04\n",
      "Epoch 25/100\n",
      "\u001b[1m1781/1781\u001b[0m \u001b[32m━━━━━━━━━━━━━━━━━━━━\u001b[0m\u001b[37m\u001b[0m \u001b[1m5s\u001b[0m 3ms/step - loss: 2.9820e-04 - val_loss: 2.9780e-04\n",
      "Epoch 26/100\n",
      "\u001b[1m1781/1781\u001b[0m \u001b[32m━━━━━━━━━━━━━━━━━━━━\u001b[0m\u001b[37m\u001b[0m \u001b[1m5s\u001b[0m 3ms/step - loss: 2.9582e-04 - val_loss: 3.0184e-04\n",
      "Epoch 27/100\n",
      "\u001b[1m1781/1781\u001b[0m \u001b[32m━━━━━━━━━━━━━━━━━━━━\u001b[0m\u001b[37m\u001b[0m \u001b[1m5s\u001b[0m 3ms/step - loss: 2.9542e-04 - val_loss: 2.9546e-04\n",
      "Epoch 28/100\n",
      "\u001b[1m1781/1781\u001b[0m \u001b[32m━━━━━━━━━━━━━━━━━━━━\u001b[0m\u001b[37m\u001b[0m \u001b[1m5s\u001b[0m 3ms/step - loss: 2.9441e-04 - val_loss: 2.9112e-04\n",
      "Epoch 29/100\n",
      "\u001b[1m1781/1781\u001b[0m \u001b[32m━━━━━━━━━━━━━━━━━━━━\u001b[0m\u001b[37m\u001b[0m \u001b[1m5s\u001b[0m 3ms/step - loss: 2.9106e-04 - val_loss: 2.9018e-04\n",
      "Epoch 30/100\n",
      "\u001b[1m1781/1781\u001b[0m \u001b[32m━━━━━━━━━━━━━━━━━━━━\u001b[0m\u001b[37m\u001b[0m \u001b[1m5s\u001b[0m 3ms/step - loss: 2.8789e-04 - val_loss: 2.9135e-04\n",
      "Epoch 31/100\n",
      "\u001b[1m1781/1781\u001b[0m \u001b[32m━━━━━━━━━━━━━━━━━━━━\u001b[0m\u001b[37m\u001b[0m \u001b[1m5s\u001b[0m 3ms/step - loss: 2.8742e-04 - val_loss: 2.9084e-04\n",
      "Epoch 32/100\n",
      "\u001b[1m1781/1781\u001b[0m \u001b[32m━━━━━━━━━━━━━━━━━━━━\u001b[0m\u001b[37m\u001b[0m \u001b[1m5s\u001b[0m 3ms/step - loss: 2.8452e-04 - val_loss: 2.8566e-04\n",
      "Epoch 33/100\n",
      "\u001b[1m1781/1781\u001b[0m \u001b[32m━━━━━━━━━━━━━━━━━━━━\u001b[0m\u001b[37m\u001b[0m \u001b[1m5s\u001b[0m 3ms/step - loss: 2.8154e-04 - val_loss: 2.8288e-04\n",
      "Epoch 34/100\n",
      "\u001b[1m1781/1781\u001b[0m \u001b[32m━━━━━━━━━━━━━━━━━━━━\u001b[0m\u001b[37m\u001b[0m \u001b[1m5s\u001b[0m 3ms/step - loss: 2.7902e-04 - val_loss: 2.7881e-04\n",
      "Epoch 35/100\n",
      "\u001b[1m1781/1781\u001b[0m \u001b[32m━━━━━━━━━━━━━━━━━━━━\u001b[0m\u001b[37m\u001b[0m \u001b[1m5s\u001b[0m 3ms/step - loss: 2.7889e-04 - val_loss: 2.7939e-04\n",
      "Epoch 36/100\n",
      "\u001b[1m1781/1781\u001b[0m \u001b[32m━━━━━━━━━━━━━━━━━━━━\u001b[0m\u001b[37m\u001b[0m \u001b[1m5s\u001b[0m 3ms/step - loss: 2.7320e-04 - val_loss: 2.8812e-04\n",
      "Epoch 37/100\n",
      "\u001b[1m1781/1781\u001b[0m \u001b[32m━━━━━━━━━━━━━━━━━━━━\u001b[0m\u001b[37m\u001b[0m \u001b[1m5s\u001b[0m 3ms/step - loss: 2.7474e-04 - val_loss: 2.7833e-04\n",
      "Epoch 38/100\n",
      "\u001b[1m1781/1781\u001b[0m \u001b[32m━━━━━━━━━━━━━━━━━━━━\u001b[0m\u001b[37m\u001b[0m \u001b[1m5s\u001b[0m 3ms/step - loss: 2.7166e-04 - val_loss: 2.7184e-04\n",
      "Epoch 39/100\n",
      "\u001b[1m1781/1781\u001b[0m \u001b[32m━━━━━━━━━━━━━━━━━━━━\u001b[0m\u001b[37m\u001b[0m \u001b[1m5s\u001b[0m 3ms/step - loss: 2.7020e-04 - val_loss: 2.6979e-04\n",
      "Epoch 40/100\n",
      "\u001b[1m1781/1781\u001b[0m \u001b[32m━━━━━━━━━━━━━━━━━━━━\u001b[0m\u001b[37m\u001b[0m \u001b[1m5s\u001b[0m 3ms/step - loss: 2.6713e-04 - val_loss: 2.7188e-04\n",
      "Epoch 41/100\n",
      "\u001b[1m1781/1781\u001b[0m \u001b[32m━━━━━━━━━━━━━━━━━━━━\u001b[0m\u001b[37m\u001b[0m \u001b[1m5s\u001b[0m 3ms/step - loss: 2.6579e-04 - val_loss: 2.6530e-04\n",
      "Epoch 42/100\n",
      "\u001b[1m1781/1781\u001b[0m \u001b[32m━━━━━━━━━━━━━━━━━━━━\u001b[0m\u001b[37m\u001b[0m \u001b[1m5s\u001b[0m 3ms/step - loss: 2.6416e-04 - val_loss: 2.6397e-04\n",
      "Epoch 43/100\n",
      "\u001b[1m1781/1781\u001b[0m \u001b[32m━━━━━━━━━━━━━━━━━━━━\u001b[0m\u001b[37m\u001b[0m \u001b[1m5s\u001b[0m 3ms/step - loss: 2.6429e-04 - val_loss: 2.6327e-04\n",
      "Epoch 44/100\n",
      "\u001b[1m1781/1781\u001b[0m \u001b[32m━━━━━━━━━━━━━━━━━━━━\u001b[0m\u001b[37m\u001b[0m \u001b[1m5s\u001b[0m 3ms/step - loss: 2.6053e-04 - val_loss: 2.6359e-04\n",
      "Epoch 45/100\n",
      "\u001b[1m1781/1781\u001b[0m \u001b[32m━━━━━━━━━━━━━━━━━━━━\u001b[0m\u001b[37m\u001b[0m \u001b[1m5s\u001b[0m 3ms/step - loss: 2.5993e-04 - val_loss: 2.6200e-04\n",
      "Epoch 46/100\n",
      "\u001b[1m1781/1781\u001b[0m \u001b[32m━━━━━━━━━━━━━━━━━━━━\u001b[0m\u001b[37m\u001b[0m \u001b[1m5s\u001b[0m 3ms/step - loss: 2.6140e-04 - val_loss: 2.6230e-04\n",
      "Epoch 47/100\n",
      "\u001b[1m1781/1781\u001b[0m \u001b[32m━━━━━━━━━━━━━━━━━━━━\u001b[0m\u001b[37m\u001b[0m \u001b[1m5s\u001b[0m 3ms/step - loss: 2.5956e-04 - val_loss: 2.5910e-04\n",
      "Epoch 48/100\n",
      "\u001b[1m1781/1781\u001b[0m \u001b[32m━━━━━━━━━━━━━━━━━━━━\u001b[0m\u001b[37m\u001b[0m \u001b[1m5s\u001b[0m 3ms/step - loss: 2.5788e-04 - val_loss: 2.6293e-04\n",
      "Epoch 49/100\n",
      "\u001b[1m1781/1781\u001b[0m \u001b[32m━━━━━━━━━━━━━━━━━━━━\u001b[0m\u001b[37m\u001b[0m \u001b[1m5s\u001b[0m 3ms/step - loss: 2.5600e-04 - val_loss: 2.6362e-04\n",
      "Epoch 50/100\n",
      "\u001b[1m1781/1781\u001b[0m \u001b[32m━━━━━━━━━━━━━━━━━━━━\u001b[0m\u001b[37m\u001b[0m \u001b[1m5s\u001b[0m 3ms/step - loss: 2.5555e-04 - val_loss: 2.5981e-04\n",
      "Epoch 51/100\n",
      "\u001b[1m1781/1781\u001b[0m \u001b[32m━━━━━━━━━━━━━━━━━━━━\u001b[0m\u001b[37m\u001b[0m \u001b[1m5s\u001b[0m 3ms/step - loss: 2.5636e-04 - val_loss: 2.5620e-04\n",
      "Epoch 52/100\n",
      "\u001b[1m1781/1781\u001b[0m \u001b[32m━━━━━━━━━━━━━━━━━━━━\u001b[0m\u001b[37m\u001b[0m \u001b[1m5s\u001b[0m 3ms/step - loss: 2.5476e-04 - val_loss: 2.5752e-04\n",
      "Epoch 53/100\n",
      "\u001b[1m1781/1781\u001b[0m \u001b[32m━━━━━━━━━━━━━━━━━━━━\u001b[0m\u001b[37m\u001b[0m \u001b[1m5s\u001b[0m 3ms/step - loss: 2.5450e-04 - val_loss: 2.6245e-04\n",
      "Epoch 54/100\n",
      "\u001b[1m1781/1781\u001b[0m \u001b[32m━━━━━━━━━━━━━━━━━━━━\u001b[0m\u001b[37m\u001b[0m \u001b[1m5s\u001b[0m 3ms/step - loss: 2.5368e-04 - val_loss: 2.6033e-04\n",
      "Epoch 55/100\n",
      "\u001b[1m1781/1781\u001b[0m \u001b[32m━━━━━━━━━━━━━━━━━━━━\u001b[0m\u001b[37m\u001b[0m \u001b[1m5s\u001b[0m 3ms/step - loss: 2.5192e-04 - val_loss: 2.5794e-04\n",
      "Epoch 56/100\n",
      "\u001b[1m1781/1781\u001b[0m \u001b[32m━━━━━━━━━━━━━━━━━━━━\u001b[0m\u001b[37m\u001b[0m \u001b[1m5s\u001b[0m 3ms/step - loss: 2.5225e-04 - val_loss: 2.5504e-04\n",
      "Epoch 57/100\n",
      "\u001b[1m1781/1781\u001b[0m \u001b[32m━━━━━━━━━━━━━━━━━━━━\u001b[0m\u001b[37m\u001b[0m \u001b[1m5s\u001b[0m 3ms/step - loss: 2.5172e-04 - val_loss: 2.5301e-04\n",
      "Epoch 58/100\n",
      "\u001b[1m1781/1781\u001b[0m \u001b[32m━━━━━━━━━━━━━━━━━━━━\u001b[0m\u001b[37m\u001b[0m \u001b[1m5s\u001b[0m 3ms/step - loss: 2.5070e-04 - val_loss: 2.5125e-04\n",
      "Epoch 59/100\n",
      "\u001b[1m1781/1781\u001b[0m \u001b[32m━━━━━━━━━━━━━━━━━━━━\u001b[0m\u001b[37m\u001b[0m \u001b[1m5s\u001b[0m 3ms/step - loss: 2.5140e-04 - val_loss: 2.5050e-04\n",
      "Epoch 60/100\n",
      "\u001b[1m1781/1781\u001b[0m \u001b[32m━━━━━━━━━━━━━━━━━━━━\u001b[0m\u001b[37m\u001b[0m \u001b[1m5s\u001b[0m 3ms/step - loss: 2.4890e-04 - val_loss: 2.5474e-04\n",
      "Epoch 61/100\n",
      "\u001b[1m1781/1781\u001b[0m \u001b[32m━━━━━━━━━━━━━━━━━━━━\u001b[0m\u001b[37m\u001b[0m \u001b[1m5s\u001b[0m 3ms/step - loss: 2.4852e-04 - val_loss: 2.4938e-04\n",
      "Epoch 62/100\n",
      "\u001b[1m1781/1781\u001b[0m \u001b[32m━━━━━━━━━━━━━━━━━━━━\u001b[0m\u001b[37m\u001b[0m \u001b[1m5s\u001b[0m 3ms/step - loss: 2.4789e-04 - val_loss: 2.5068e-04\n",
      "Epoch 63/100\n",
      "\u001b[1m1781/1781\u001b[0m \u001b[32m━━━━━━━━━━━━━━━━━━━━\u001b[0m\u001b[37m\u001b[0m \u001b[1m5s\u001b[0m 3ms/step - loss: 2.4672e-04 - val_loss: 2.4857e-04\n",
      "Epoch 64/100\n",
      "\u001b[1m1781/1781\u001b[0m \u001b[32m━━━━━━━━━━━━━━━━━━━━\u001b[0m\u001b[37m\u001b[0m \u001b[1m5s\u001b[0m 3ms/step - loss: 2.4674e-04 - val_loss: 2.4655e-04\n",
      "Epoch 65/100\n",
      "\u001b[1m1781/1781\u001b[0m \u001b[32m━━━━━━━━━━━━━━━━━━━━\u001b[0m\u001b[37m\u001b[0m \u001b[1m5s\u001b[0m 3ms/step - loss: 2.4408e-04 - val_loss: 2.4655e-04\n",
      "Epoch 66/100\n",
      "\u001b[1m1781/1781\u001b[0m \u001b[32m━━━━━━━━━━━━━━━━━━━━\u001b[0m\u001b[37m\u001b[0m \u001b[1m5s\u001b[0m 3ms/step - loss: 2.4441e-04 - val_loss: 2.5119e-04\n",
      "Epoch 67/100\n",
      "\u001b[1m1781/1781\u001b[0m \u001b[32m━━━━━━━━━━━━━━━━━━━━\u001b[0m\u001b[37m\u001b[0m \u001b[1m5s\u001b[0m 3ms/step - loss: 2.4334e-04 - val_loss: 2.4415e-04\n",
      "Epoch 68/100\n",
      "\u001b[1m1781/1781\u001b[0m \u001b[32m━━━━━━━━━━━━━━━━━━━━\u001b[0m\u001b[37m\u001b[0m \u001b[1m5s\u001b[0m 3ms/step - loss: 2.4241e-04 - val_loss: 2.4532e-04\n",
      "Epoch 69/100\n",
      "\u001b[1m1781/1781\u001b[0m \u001b[32m━━━━━━━━━━━━━━━━━━━━\u001b[0m\u001b[37m\u001b[0m \u001b[1m5s\u001b[0m 3ms/step - loss: 2.4338e-04 - val_loss: 2.4268e-04\n",
      "Epoch 70/100\n",
      "\u001b[1m1781/1781\u001b[0m \u001b[32m━━━━━━━━━━━━━━━━━━━━\u001b[0m\u001b[37m\u001b[0m \u001b[1m5s\u001b[0m 3ms/step - loss: 2.4188e-04 - val_loss: 2.4622e-04\n",
      "Epoch 71/100\n",
      "\u001b[1m1781/1781\u001b[0m \u001b[32m━━━━━━━━━━━━━━━━━━━━\u001b[0m\u001b[37m\u001b[0m \u001b[1m5s\u001b[0m 3ms/step - loss: 2.4118e-04 - val_loss: 2.4511e-04\n",
      "Epoch 72/100\n",
      "\u001b[1m1781/1781\u001b[0m \u001b[32m━━━━━━━━━━━━━━━━━━━━\u001b[0m\u001b[37m\u001b[0m \u001b[1m5s\u001b[0m 3ms/step - loss: 2.4128e-04 - val_loss: 2.4246e-04\n",
      "Epoch 73/100\n",
      "\u001b[1m1781/1781\u001b[0m \u001b[32m━━━━━━━━━━━━━━━━━━━━\u001b[0m\u001b[37m\u001b[0m \u001b[1m5s\u001b[0m 3ms/step - loss: 2.4111e-04 - val_loss: 2.4247e-04\n",
      "Epoch 74/100\n",
      "\u001b[1m1781/1781\u001b[0m \u001b[32m━━━━━━━━━━━━━━━━━━━━\u001b[0m\u001b[37m\u001b[0m \u001b[1m5s\u001b[0m 3ms/step - loss: 2.3988e-04 - val_loss: 2.4179e-04\n",
      "Epoch 75/100\n",
      "\u001b[1m1781/1781\u001b[0m \u001b[32m━━━━━━━━━━━━━━━━━━━━\u001b[0m\u001b[37m\u001b[0m \u001b[1m6s\u001b[0m 3ms/step - loss: 2.3970e-04 - val_loss: 2.4081e-04\n",
      "Epoch 76/100\n",
      "\u001b[1m1781/1781\u001b[0m \u001b[32m━━━━━━━━━━━━━━━━━━━━\u001b[0m\u001b[37m\u001b[0m \u001b[1m7s\u001b[0m 4ms/step - loss: 2.3879e-04 - val_loss: 2.4090e-04\n",
      "Epoch 77/100\n",
      "\u001b[1m1781/1781\u001b[0m \u001b[32m━━━━━━━━━━━━━━━━━━━━\u001b[0m\u001b[37m\u001b[0m \u001b[1m10s\u001b[0m 6ms/step - loss: 2.3929e-04 - val_loss: 2.4047e-04\n",
      "Epoch 78/100\n",
      "\u001b[1m1781/1781\u001b[0m \u001b[32m━━━━━━━━━━━━━━━━━━━━\u001b[0m\u001b[37m\u001b[0m \u001b[1m9s\u001b[0m 5ms/step - loss: 2.3902e-04 - val_loss: 2.3903e-04\n",
      "Epoch 79/100\n",
      "\u001b[1m1781/1781\u001b[0m \u001b[32m━━━━━━━━━━━━━━━━━━━━\u001b[0m\u001b[37m\u001b[0m \u001b[1m10s\u001b[0m 6ms/step - loss: 2.3658e-04 - val_loss: 2.4033e-04\n",
      "Epoch 80/100\n",
      "\u001b[1m1781/1781\u001b[0m \u001b[32m━━━━━━━━━━━━━━━━━━━━\u001b[0m\u001b[37m\u001b[0m \u001b[1m5s\u001b[0m 3ms/step - loss: 2.3668e-04 - val_loss: 2.3965e-04\n",
      "Epoch 81/100\n",
      "\u001b[1m1781/1781\u001b[0m \u001b[32m━━━━━━━━━━━━━━━━━━━━\u001b[0m\u001b[37m\u001b[0m \u001b[1m5s\u001b[0m 3ms/step - loss: 2.3664e-04 - val_loss: 2.3838e-04\n",
      "Epoch 82/100\n",
      "\u001b[1m1781/1781\u001b[0m \u001b[32m━━━━━━━━━━━━━━━━━━━━\u001b[0m\u001b[37m\u001b[0m \u001b[1m5s\u001b[0m 3ms/step - loss: 2.3557e-04 - val_loss: 2.3830e-04\n",
      "Epoch 83/100\n",
      "\u001b[1m1781/1781\u001b[0m \u001b[32m━━━━━━━━━━━━━━━━━━━━\u001b[0m\u001b[37m\u001b[0m \u001b[1m5s\u001b[0m 3ms/step - loss: 2.3578e-04 - val_loss: 2.5042e-04\n",
      "Epoch 84/100\n",
      "\u001b[1m1781/1781\u001b[0m \u001b[32m━━━━━━━━━━━━━━━━━━━━\u001b[0m\u001b[37m\u001b[0m \u001b[1m5s\u001b[0m 3ms/step - loss: 2.3428e-04 - val_loss: 2.3844e-04\n",
      "Epoch 85/100\n",
      "\u001b[1m1781/1781\u001b[0m \u001b[32m━━━━━━━━━━━━━━━━━━━━\u001b[0m\u001b[37m\u001b[0m \u001b[1m5s\u001b[0m 3ms/step - loss: 2.3523e-04 - val_loss: 2.3888e-04\n",
      "Epoch 86/100\n",
      "\u001b[1m1781/1781\u001b[0m \u001b[32m━━━━━━━━━━━━━━━━━━━━\u001b[0m\u001b[37m\u001b[0m \u001b[1m5s\u001b[0m 3ms/step - loss: 2.3464e-04 - val_loss: 2.3961e-04\n",
      "Epoch 87/100\n",
      "\u001b[1m1781/1781\u001b[0m \u001b[32m━━━━━━━━━━━━━━━━━━━━\u001b[0m\u001b[37m\u001b[0m \u001b[1m5s\u001b[0m 3ms/step - loss: 2.3406e-04 - val_loss: 2.3927e-04\n"
     ]
    }
   ],
   "source": [
    "# Train autoencoder \n",
    "history = autoencoder.fit(\n",
    "    X_train, X_train,\n",
    "    epochs=100,\n",
    "    batch_size=256,\n",
    "    validation_data=(X_val, X_val),\n",
    "    callbacks=[EarlyStopping(monitor='val_loss', patience=5, restore_best_weights=True)],\n",
    "    verbose=1\n",
    ")"
   ]
  },
  {
   "cell_type": "markdown",
   "id": "6340e0c7",
   "metadata": {},
   "source": [
    "## Save Trained Model and Scaler"
   ]
  },
  {
   "cell_type": "code",
   "execution_count": 34,
   "id": "0065e750",
   "metadata": {},
   "outputs": [],
   "source": [
    "# Save model and scaler \n",
    "autoencoder.save(model_dir / \"autoencoder_model.keras\")"
   ]
  },
  {
   "cell_type": "markdown",
   "id": "2eae89e4",
   "metadata": {},
   "source": [
    "## Set Reconstruction Error Threshold\n",
    "\n",
    "After training the autoencoder, how well it can reconstruct the validation data was evaluated, which contains only legitimate or non-fraudulent transactions. To do this, the Mean Squared Error (MSE) was computed between the original input and its reconstructed output for each sample in the validation set.\n",
    "\n",
    "Legitimate transactions refers to the type the autoencoder was trained on which should have low reconstruction error, since the model has learned their normal patterns. Anomalous transactions refers to fraud which differ from the normal patterns and result in a high reconstruction error, because the model struggles to accurately reconstruct something it hasn't seen before.\n",
    "\n",
    "Instead of setting an arbitrary reconstruction error cutoff, the 95th percentile was calculated of all MSE scores in the validation set. This means that 95% of the validation samples had reconstruction errors below this value and 5% of legitimate samples had reconstruction errors above this threshold. This can possibly be due to slight natural variations or noise.\n",
    "\n",
    "By using this value as a threshold, any future sample with a reconstruction error above 0.000856 is assumed to be anomalous or potentially fraudulent. This helps catch outliers while maintaining a relatively low false-positive rate."
   ]
  },
  {
   "cell_type": "code",
   "execution_count": 35,
   "id": "31ac2b79",
   "metadata": {},
   "outputs": [
    {
     "name": "stdout",
     "output_type": "stream",
     "text": [
      "\u001b[1m3562/3562\u001b[0m \u001b[32m━━━━━━━━━━━━━━━━━━━━\u001b[0m\u001b[37m\u001b[0m \u001b[1m3s\u001b[0m 802us/step\n",
      "Threshold (95th percentile): 0.000856\n"
     ]
    }
   ],
   "source": [
    "# Set threshold based on validation reconstruction error \n",
    "X_val_pred = autoencoder.predict(X_val)\n",
    "mse = np.mean(np.square(X_val - X_val_pred), axis=1)\n",
    "threshold = np.percentile(mse, 95)\n",
    "joblib.dump(threshold, model_dir / \"autoencoder_threshold.pkl\")\n",
    "print(f\"Threshold (95th percentile): {threshold:.6f}\")"
   ]
  },
  {
   "cell_type": "markdown",
   "id": "838fbe7e",
   "metadata": {},
   "source": [
    "## Visualize Training and Validation Loss\n",
    "\n",
    "Plot the training and validation loss curves to visualize how the model's performance evolves across epochs. This helps in assessing model learning behavior, spotting overfitting, and choosing optimal stopping points."
   ]
  },
  {
   "cell_type": "code",
   "execution_count": 36,
   "id": "b1ec7388",
   "metadata": {},
   "outputs": [
    {
     "data": {
      "image/png": "[encoded data removed]",
      "text/plain": [
       "<Figure size 640x480 with 1 Axes>"
      ]
     },
     "metadata": {},
     "output_type": "display_data"
    }
   ],
   "source": [
    "# Plot training and validation loss \n",
    "plt.plot(history.history['loss'], label='Train Loss')\n",
    "plt.plot(history.history['val_loss'], label='Validation Loss')\n",
    "plt.title(\"Autoencoder Training Curve\")\n",
    "plt.xlabel(\"Epochs\")\n",
    "plt.ylabel(\"MSE Loss\")\n",
    "plt.legend()\n",
    "plt.grid(True)\n",
    "plt.tight_layout()\n",
    "plt.savefig(model_dir / \"autoencoder_loss_curve.png\")\n",
    "plt.show()"
   ]
  },
  {
   "cell_type": "markdown",
   "id": "ae141cab",
   "metadata": {},
   "source": [
    "## Visualization Insights\n",
    "\n",
    "The graph above shows the Mean Squared Error (MSE) loss over 87 epochs for both training and validation datasets The x axis represents the number of training iterations, ranging from 0 to 100 and the y axis (MSE Loss) represents the loss value, ranging from 0 to 0.005. It should be noted that lower values indicate better performance.\n",
    "\n",
    "The blue curve representing train loss, shows the loss on the training dataset. It starts high and decreases sharply, flattening out as training progresses. The orange curve representing validation loss shows the loss on the validation dataset. It follows a similar pattern to the training loss, indicating that the model is learning effectively and generalizing well.\n",
    "\n",
    "### Key Insights\n",
    "\n",
    "Both curves show a sharp decrease initially, indicating that the model is learning quickly. The curves flatten out towards the end, suggesting that the model's performance is stabilizing and it is not overfitting. This visualization therefore helps assess how well the autoencoder is learning to reconstruct the input data and whether it is generalizing effectively to unseen data."
   ]
  }
 ],
 "metadata": {
  "kernelspec": {
   "display_name": "base",
   "language": "python",
   "name": "python3"
  },
  "language_info": {
   "codemirror_mode": {
    "name": "ipython",
    "version": 3
   },
   "file_extension": ".py",
   "mimetype": "text/x-python",
   "name": "python",
   "nbconvert_exporter": "python",
   "pygments_lexer": "ipython3",
   "version": "3.12.7"
  }
 },
 "nbformat": 4,
 "nbformat_minor": 5
}
