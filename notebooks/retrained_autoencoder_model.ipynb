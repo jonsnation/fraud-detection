{
 "cells": [
  {
   "cell_type": "markdown",
   "id": "2a0ff019",
   "metadata": {},
   "source": [
    "# Retrained Autoencoder Model\n",
    "\n",
    "This model was retrained based on selected features that were used in training the models for streaming. "
   ]
  },
  {
   "cell_type": "code",
   "execution_count": 1,
   "id": "2d577cd0",
   "metadata": {},
   "outputs": [
    {
     "name": "stdout",
     "output_type": "stream",
     "text": [
      "Requirement already satisfied: tensorflow in c:\\users\\jonat\\anaconda3\\lib\\site-packages (2.19.0)\n",
      "Requirement already satisfied: joblib in c:\\users\\jonat\\anaconda3\\lib\\site-packages (1.4.2)\n",
      "Requirement already satisfied: absl-py>=1.0.0 in c:\\users\\jonat\\anaconda3\\lib\\site-packages (from tensorflow) (2.2.2)\n",
      "Requirement already satisfied: astunparse>=1.6.0 in c:\\users\\jonat\\anaconda3\\lib\\site-packages (from tensorflow) (1.6.3)\n",
      "Requirement already satisfied: flatbuffers>=24.3.25 in c:\\users\\jonat\\anaconda3\\lib\\site-packages (from tensorflow) (25.2.10)\n",
      "Requirement already satisfied: gast!=0.5.0,!=0.5.1,!=0.5.2,>=0.2.1 in c:\\users\\jonat\\anaconda3\\lib\\site-packages (from tensorflow) (0.6.0)\n",
      "Requirement already satisfied: google-pasta>=0.1.1 in c:\\users\\jonat\\anaconda3\\lib\\site-packages (from tensorflow) (0.2.0)\n",
      "Requirement already satisfied: libclang>=13.0.0 in c:\\users\\jonat\\anaconda3\\lib\\site-packages (from tensorflow) (18.1.1)\n",
      "Requirement already satisfied: opt-einsum>=2.3.2 in c:\\users\\jonat\\anaconda3\\lib\\site-packages (from tensorflow) (3.4.0)\n",
      "Requirement already satisfied: packaging in c:\\users\\jonat\\anaconda3\\lib\\site-packages (from tensorflow) (24.1)\n",
      "Requirement already satisfied: protobuf!=4.21.0,!=4.21.1,!=4.21.2,!=4.21.3,!=4.21.4,!=4.21.5,<6.0.0dev,>=3.20.3 in c:\\users\\jonat\\anaconda3\\lib\\site-packages (from tensorflow) (4.25.3)\n",
      "Requirement already satisfied: requests<3,>=2.21.0 in c:\\users\\jonat\\anaconda3\\lib\\site-packages (from tensorflow) (2.32.3)\n",
      "Requirement already satisfied: setuptools in c:\\users\\jonat\\anaconda3\\lib\\site-packages (from tensorflow) (75.1.0)\n",
      "Requirement already satisfied: six>=1.12.0 in c:\\users\\jonat\\anaconda3\\lib\\site-packages (from tensorflow) (1.16.0)\n",
      "Requirement already satisfied: termcolor>=1.1.0 in c:\\users\\jonat\\anaconda3\\lib\\site-packages (from tensorflow) (3.0.1)\n",
      "Requirement already satisfied: typing-extensions>=3.6.6 in c:\\users\\jonat\\anaconda3\\lib\\site-packages (from tensorflow) (4.11.0)\n",
      "Requirement already satisfied: wrapt>=1.11.0 in c:\\users\\jonat\\anaconda3\\lib\\site-packages (from tensorflow) (1.14.1)\n",
      "Requirement already satisfied: grpcio<2.0,>=1.24.3 in c:\\users\\jonat\\anaconda3\\lib\\site-packages (from tensorflow) (1.71.0)\n",
      "Requirement already satisfied: tensorboard~=2.19.0 in c:\\users\\jonat\\anaconda3\\lib\\site-packages (from tensorflow) (2.19.0)\n",
      "Requirement already satisfied: keras>=3.5.0 in c:\\users\\jonat\\anaconda3\\lib\\site-packages (from tensorflow) (3.9.2)\n",
      "Requirement already satisfied: numpy<2.2.0,>=1.26.0 in c:\\users\\jonat\\anaconda3\\lib\\site-packages (from tensorflow) (1.26.4)\n",
      "Requirement already satisfied: h5py>=3.11.0 in c:\\users\\jonat\\anaconda3\\lib\\site-packages (from tensorflow) (3.11.0)\n",
      "Requirement already satisfied: ml-dtypes<1.0.0,>=0.5.1 in c:\\users\\jonat\\anaconda3\\lib\\site-packages (from tensorflow) (0.5.1)\n",
      "Requirement already satisfied: wheel<1.0,>=0.23.0 in c:\\users\\jonat\\anaconda3\\lib\\site-packages (from astunparse>=1.6.0->tensorflow) (0.44.0)\n",
      "Requirement already satisfied: rich in c:\\users\\jonat\\anaconda3\\lib\\site-packages (from keras>=3.5.0->tensorflow) (13.7.1)\n",
      "Requirement already satisfied: namex in c:\\users\\jonat\\anaconda3\\lib\\site-packages (from keras>=3.5.0->tensorflow) (0.0.9)\n",
      "Requirement already satisfied: optree in c:\\users\\jonat\\anaconda3\\lib\\site-packages (from keras>=3.5.0->tensorflow) (0.15.0)\n",
      "Requirement already satisfied: charset-normalizer<4,>=2 in c:\\users\\jonat\\anaconda3\\lib\\site-packages (from requests<3,>=2.21.0->tensorflow) (3.3.2)\n",
      "Requirement already satisfied: idna<4,>=2.5 in c:\\users\\jonat\\anaconda3\\lib\\site-packages (from requests<3,>=2.21.0->tensorflow) (3.7)\n",
      "Requirement already satisfied: urllib3<3,>=1.21.1 in c:\\users\\jonat\\anaconda3\\lib\\site-packages (from requests<3,>=2.21.0->tensorflow) (2.2.3)\n",
      "Requirement already satisfied: certifi>=2017.4.17 in c:\\users\\jonat\\anaconda3\\lib\\site-packages (from requests<3,>=2.21.0->tensorflow) (2024.12.14)\n",
      "Requirement already satisfied: markdown>=2.6.8 in c:\\users\\jonat\\anaconda3\\lib\\site-packages (from tensorboard~=2.19.0->tensorflow) (3.4.1)\n",
      "Requirement already satisfied: tensorboard-data-server<0.8.0,>=0.7.0 in c:\\users\\jonat\\anaconda3\\lib\\site-packages (from tensorboard~=2.19.0->tensorflow) (0.7.2)\n",
      "Requirement already satisfied: werkzeug>=1.0.1 in c:\\users\\jonat\\anaconda3\\lib\\site-packages (from tensorboard~=2.19.0->tensorflow) (3.0.3)\n",
      "Requirement already satisfied: MarkupSafe>=2.1.1 in c:\\users\\jonat\\anaconda3\\lib\\site-packages (from werkzeug>=1.0.1->tensorboard~=2.19.0->tensorflow) (2.1.3)\n",
      "Requirement already satisfied: markdown-it-py>=2.2.0 in c:\\users\\jonat\\anaconda3\\lib\\site-packages (from rich->keras>=3.5.0->tensorflow) (2.2.0)\n",
      "Requirement already satisfied: pygments<3.0.0,>=2.13.0 in c:\\users\\jonat\\appdata\\roaming\\python\\python312\\site-packages (from rich->keras>=3.5.0->tensorflow) (2.19.1)\n",
      "Requirement already satisfied: mdurl~=0.1 in c:\\users\\jonat\\anaconda3\\lib\\site-packages (from markdown-it-py>=2.2.0->rich->keras>=3.5.0->tensorflow) (0.1.0)\n",
      "Note: you may need to restart the kernel to use updated packages.\n"
     ]
    }
   ],
   "source": [
    "# Install and Import Libraries \n",
    "%pip install tensorflow joblib\n",
    "\n",
    "import pandas as pd\n",
    "import numpy as np\n",
    "from pathlib import Path\n",
    "import joblib\n",
    "import matplotlib.pyplot as plt\n",
    "from sklearn.model_selection import train_test_split\n",
    "from sklearn.preprocessing import MinMaxScaler\n",
    "from tensorflow.keras.models import Model\n",
    "from tensorflow.keras.layers import Input, Dense\n",
    "from tensorflow.keras.optimizers import Adam\n",
    "from tensorflow.keras.losses import MeanSquaredError\n",
    "from tensorflow.keras.callbacks import EarlyStopping"
   ]
  },
  {
   "cell_type": "code",
   "execution_count": 2,
   "id": "c955dcb9",
   "metadata": {},
   "outputs": [],
   "source": [
    "# Define Paths \n",
    "project_root = Path.cwd().parents[0]\n",
    "data_dir = project_root / \"data\" / \"processed\"\n",
    "model_dir = project_root / \"models\" / \"trained_model\"\n",
    "model_dir.mkdir(parents=True, exist_ok=True)"
   ]
  },
  {
   "cell_type": "code",
   "execution_count": 3,
   "id": "722b7d65",
   "metadata": {},
   "outputs": [],
   "source": [
    "# Load Data and Restore Feature Names \n",
    "X = pd.read_csv(data_dir / \"X_processed.csv\")\n",
    "y = pd.read_csv(data_dir / \"y_processed.csv\").squeeze()\n",
    "full_feature_list = joblib.load(data_dir / \"feature_columns.pkl\")\n",
    "\n",
    "\n",
    "# Assign correct column names to X\n",
    "X.columns = full_feature_list"
   ]
  },
  {
   "cell_type": "code",
   "execution_count": 4,
   "id": "48a169bf",
   "metadata": {},
   "outputs": [],
   "source": [
    "# Define SHAP-Selected Feature Subset \n",
    "selected_features = [\n",
    "    \"TransactionAmt\", \"TransactionDT\",\n",
    "    \"card1\", \"card4_freq\", \"card6_freq\",\n",
    "    \"addr1\", \"dist1\",\n",
    "    \"P_emaildomain_freq\", \"R_emaildomain_freq\",\n",
    "    \"M1_freq\", \"M4_freq\", \"M5_freq\", \"M6_freq\", \"M9_freq\",\n",
    "    \"C1\", \"C2\", \"C8\", \"C11\",\n",
    "    \"V18\", \"V21\", \"V97\", \"V133\", \"V189\", \"V200\", \"V258\", \"V282\", \"V294\", \"V312\",\n",
    "    \"DeviceType_freq\", \"id_15_freq\", \"id_28_freq\", \"id_29_freq\",\n",
    "    \"id_31_freq\", \"id_35_freq\", \"id_36_freq\", \"id_37_freq\", \"id_38_freq\"\n",
    "]\n",
    "\n",
    "# Ensure columns exist (just in case)\n",
    "selected_features = [f for f in selected_features if f in X.columns]"
   ]
  },
  {
   "cell_type": "code",
   "execution_count": 5,
   "id": "a3d75e91",
   "metadata": {},
   "outputs": [],
   "source": [
    "# Prepare Legitimate Transaction Subset \n",
    "X = X[selected_features].reset_index(drop=True)\n",
    "y = y.reset_index(drop=True)\n",
    "X_normal = X[y == 0].copy()"
   ]
  },
  {
   "cell_type": "code",
   "execution_count": 6,
   "id": "a1856ce6",
   "metadata": {},
   "outputs": [
    {
     "data": {
      "text/plain": [
       "['c:\\\\Users\\\\jonat\\\\fraud-detection-project\\\\models\\\\trained_model\\\\autoencoder_feature_names.pkl']"
      ]
     },
     "execution_count": 6,
     "metadata": {},
     "output_type": "execute_result"
    }
   ],
   "source": [
    "# Normalize Legitimate Transactions \n",
    "scaler = MinMaxScaler()\n",
    "X_scaled = scaler.fit_transform(X_normal)\n",
    "joblib.dump(scaler, model_dir / \"autoencoder_scaler.pkl\")\n",
    "joblib.dump(selected_features, model_dir / \"autoencoder_feature_names.pkl\")"
   ]
  },
  {
   "cell_type": "code",
   "execution_count": 7,
   "id": "d8e4897a",
   "metadata": {},
   "outputs": [],
   "source": [
    "# Define Autoencoder Architecture with Bottleneck Layer\n",
    "input_dim = X_scaled.shape[1]\n",
    "input_layer = Input(shape=(input_dim,), name='input')\n",
    "encoded = Dense(64, activation='relu')(input_layer)\n",
    "bottleneck = Dense(32, activation='relu', name='bottleneck')(encoded)\n",
    "decoded = Dense(64, activation='relu')(bottleneck)\n",
    "output_layer = Dense(input_dim, activation='sigmoid', name='output')(decoded)\n",
    "\n",
    "autoencoder = Model(inputs=input_layer, outputs=output_layer)\n",
    "autoencoder.compile(optimizer=Adam(learning_rate=0.001), loss=MeanSquaredError())"
   ]
  },
  {
   "cell_type": "code",
   "execution_count": 8,
   "id": "d2090596",
   "metadata": {},
   "outputs": [
    {
     "name": "stdout",
     "output_type": "stream",
     "text": [
      "Epoch 1/100\n",
      "\u001b[1m1781/1781\u001b[0m \u001b[32m━━━━━━━━━━━━━━━━━━━━\u001b[0m\u001b[37m\u001b[0m \u001b[1m5s\u001b[0m 2ms/step - loss: 0.0249 - val_loss: 4.6644e-04\n",
      "Epoch 2/100\n",
      "\u001b[1m1781/1781\u001b[0m \u001b[32m━━━━━━━━━━━━━━━━━━━━\u001b[0m\u001b[37m\u001b[0m \u001b[1m3s\u001b[0m 2ms/step - loss: 4.1793e-04 - val_loss: 3.1256e-04\n",
      "Epoch 3/100\n",
      "\u001b[1m1781/1781\u001b[0m \u001b[32m━━━━━━━━━━━━━━━━━━━━\u001b[0m\u001b[37m\u001b[0m \u001b[1m4s\u001b[0m 2ms/step - loss: 2.9470e-04 - val_loss: 2.6367e-04\n",
      "Epoch 4/100\n",
      "\u001b[1m1781/1781\u001b[0m \u001b[32m━━━━━━━━━━━━━━━━━━━━\u001b[0m\u001b[37m\u001b[0m \u001b[1m4s\u001b[0m 2ms/step - loss: 2.4787e-04 - val_loss: 2.0154e-04\n",
      "Epoch 5/100\n",
      "\u001b[1m1781/1781\u001b[0m \u001b[32m━━━━━━━━━━━━━━━━━━━━\u001b[0m\u001b[37m\u001b[0m \u001b[1m3s\u001b[0m 2ms/step - loss: 1.8269e-04 - val_loss: 1.7349e-04\n",
      "Epoch 6/100\n",
      "\u001b[1m1781/1781\u001b[0m \u001b[32m━━━━━━━━━━━━━━━━━━━━\u001b[0m\u001b[37m\u001b[0m \u001b[1m3s\u001b[0m 2ms/step - loss: 1.5506e-04 - val_loss: 1.5256e-04\n",
      "Epoch 7/100\n",
      "\u001b[1m1781/1781\u001b[0m \u001b[32m━━━━━━━━━━━━━━━━━━━━\u001b[0m\u001b[37m\u001b[0m \u001b[1m3s\u001b[0m 2ms/step - loss: 1.3907e-04 - val_loss: 1.2639e-04\n",
      "Epoch 8/100\n",
      "\u001b[1m1781/1781\u001b[0m \u001b[32m━━━━━━━━━━━━━━━━━━━━\u001b[0m\u001b[37m\u001b[0m \u001b[1m3s\u001b[0m 2ms/step - loss: 1.1746e-04 - val_loss: 1.1745e-04\n",
      "Epoch 9/100\n",
      "\u001b[1m1781/1781\u001b[0m \u001b[32m━━━━━━━━━━━━━━━━━━━━\u001b[0m\u001b[37m\u001b[0m \u001b[1m3s\u001b[0m 2ms/step - loss: 1.1310e-04 - val_loss: 1.1260e-04\n",
      "Epoch 10/100\n",
      "\u001b[1m1781/1781\u001b[0m \u001b[32m━━━━━━━━━━━━━━━━━━━━\u001b[0m\u001b[37m\u001b[0m \u001b[1m3s\u001b[0m 2ms/step - loss: 1.0832e-04 - val_loss: 1.1109e-04\n",
      "Epoch 11/100\n",
      "\u001b[1m1781/1781\u001b[0m \u001b[32m━━━━━━━━━━━━━━━━━━━━\u001b[0m\u001b[37m\u001b[0m \u001b[1m3s\u001b[0m 2ms/step - loss: 1.0538e-04 - val_loss: 1.0095e-04\n",
      "Epoch 12/100\n",
      "\u001b[1m1781/1781\u001b[0m \u001b[32m━━━━━━━━━━━━━━━━━━━━\u001b[0m\u001b[37m\u001b[0m \u001b[1m3s\u001b[0m 2ms/step - loss: 1.0231e-04 - val_loss: 1.0711e-04\n",
      "Epoch 13/100\n",
      "\u001b[1m1781/1781\u001b[0m \u001b[32m━━━━━━━━━━━━━━━━━━━━\u001b[0m\u001b[37m\u001b[0m \u001b[1m3s\u001b[0m 2ms/step - loss: 1.0133e-04 - val_loss: 1.0282e-04\n",
      "Epoch 14/100\n",
      "\u001b[1m1781/1781\u001b[0m \u001b[32m━━━━━━━━━━━━━━━━━━━━\u001b[0m\u001b[37m\u001b[0m \u001b[1m3s\u001b[0m 2ms/step - loss: 9.8427e-05 - val_loss: 9.3000e-05\n",
      "Epoch 15/100\n",
      "\u001b[1m1781/1781\u001b[0m \u001b[32m━━━━━━━━━━━━━━━━━━━━\u001b[0m\u001b[37m\u001b[0m \u001b[1m3s\u001b[0m 2ms/step - loss: 9.3005e-05 - val_loss: 9.1334e-05\n",
      "Epoch 16/100\n",
      "\u001b[1m1781/1781\u001b[0m \u001b[32m━━━━━━━━━━━━━━━━━━━━\u001b[0m\u001b[37m\u001b[0m \u001b[1m3s\u001b[0m 2ms/step - loss: 9.1467e-05 - val_loss: 9.1851e-05\n",
      "Epoch 17/100\n",
      "\u001b[1m1781/1781\u001b[0m \u001b[32m━━━━━━━━━━━━━━━━━━━━\u001b[0m\u001b[37m\u001b[0m \u001b[1m3s\u001b[0m 2ms/step - loss: 9.1189e-05 - val_loss: 8.8292e-05\n",
      "Epoch 18/100\n",
      "\u001b[1m1781/1781\u001b[0m \u001b[32m━━━━━━━━━━━━━━━━━━━━\u001b[0m\u001b[37m\u001b[0m \u001b[1m3s\u001b[0m 2ms/step - loss: 8.9660e-05 - val_loss: 1.0647e-04\n",
      "Epoch 19/100\n",
      "\u001b[1m1781/1781\u001b[0m \u001b[32m━━━━━━━━━━━━━━━━━━━━\u001b[0m\u001b[37m\u001b[0m \u001b[1m3s\u001b[0m 2ms/step - loss: 9.0944e-05 - val_loss: 9.0935e-05\n",
      "Epoch 20/100\n",
      "\u001b[1m1781/1781\u001b[0m \u001b[32m━━━━━━━━━━━━━━━━━━━━\u001b[0m\u001b[37m\u001b[0m \u001b[1m3s\u001b[0m 2ms/step - loss: 9.0578e-05 - val_loss: 9.4655e-05\n",
      "Epoch 21/100\n",
      "\u001b[1m1781/1781\u001b[0m \u001b[32m━━━━━━━━━━━━━━━━━━━━\u001b[0m\u001b[37m\u001b[0m \u001b[1m4s\u001b[0m 2ms/step - loss: 8.7988e-05 - val_loss: 8.8919e-05\n",
      "Epoch 22/100\n",
      "\u001b[1m1781/1781\u001b[0m \u001b[32m━━━━━━━━━━━━━━━━━━━━\u001b[0m\u001b[37m\u001b[0m \u001b[1m4s\u001b[0m 2ms/step - loss: 8.6867e-05 - val_loss: 9.0491e-05\n"
     ]
    }
   ],
   "source": [
    "# Split and Train Autoencoder \n",
    "X_train, X_val = train_test_split(X_scaled, test_size=0.2, random_state=42)\n",
    "\n",
    "history = autoencoder.fit(\n",
    "    X_train, X_train,\n",
    "    epochs=100,\n",
    "    batch_size=256,\n",
    "    validation_data=(X_val, X_val),\n",
    "    callbacks=[EarlyStopping(monitor='val_loss', patience=5, restore_best_weights=True)],\n",
    "    verbose=1\n",
    ")"
   ]
  },
  {
   "cell_type": "code",
   "execution_count": 9,
   "id": "35c14543",
   "metadata": {},
   "outputs": [],
   "source": [
    "# Save Trained Model \n",
    "autoencoder.save(model_dir / \"autoencoder_selected_model.keras\")"
   ]
  },
  {
   "cell_type": "code",
   "execution_count": 10,
   "id": "0f91855c",
   "metadata": {},
   "outputs": [
    {
     "name": "stdout",
     "output_type": "stream",
     "text": [
      "\u001b[1m3562/3562\u001b[0m \u001b[32m━━━━━━━━━━━━━━━━━━━━\u001b[0m\u001b[37m\u001b[0m \u001b[1m3s\u001b[0m 893us/step\n",
      "Reconstruction Error Threshold (95th percentile): 0.000208\n"
     ]
    }
   ],
   "source": [
    "# Set and Save Reconstruction Error Threshold \n",
    "X_val_pred = autoencoder.predict(X_val)\n",
    "mse = np.mean(np.square(X_val - X_val_pred), axis=1)\n",
    "threshold = np.percentile(mse, 95)\n",
    "joblib.dump(threshold, model_dir / \"autoencoder_threshold.pkl\")\n",
    "print(f\"Reconstruction Error Threshold (95th percentile): {threshold:.6f}\")"
   ]
  },
  {
   "cell_type": "code",
   "execution_count": 11,
   "id": "b7eb3a04",
   "metadata": {},
   "outputs": [
    {
     "data": {
      "image/png": "[encoded data removed]",
      "text/plain": [
       "<Figure size 640x480 with 1 Axes>"
      ]
     },
     "metadata": {},
     "output_type": "display_data"
    }
   ],
   "source": [
    "# Plot Training vs Validation Loss \n",
    "plt.plot(history.history['loss'], label='Train Loss')\n",
    "plt.plot(history.history['val_loss'], label='Validation Loss')\n",
    "plt.title(\"Autoencoder Training Loss (SHAP-Selected Features)\")\n",
    "plt.xlabel(\"Epochs\")\n",
    "plt.ylabel(\"MSE Loss\")\n",
    "plt.legend()\n",
    "plt.grid(True)\n",
    "plt.tight_layout()\n",
    "plt.savefig(model_dir / \"autoencoder_selected_loss_curve.png\")\n",
    "plt.show()"
   ]
  },
  {
   "cell_type": "code",
   "execution_count": 12,
   "id": "4af4d936",
   "metadata": {},
   "outputs": [],
   "source": [
    "# Save Bottleneck Encoder \n",
    "encoder = Model(inputs=input_layer, outputs=bottleneck)\n",
    "encoder.save(model_dir / \"autoencoder_encoder_selected.keras\")"
   ]
  }
 ],
 "metadata": {
  "kernelspec": {
   "display_name": "base",
   "language": "python",
   "name": "python3"
  },
  "language_info": {
   "codemirror_mode": {
    "name": "ipython",
    "version": 3
   },
   "file_extension": ".py",
   "mimetype": "text/x-python",
   "name": "python",
   "nbconvert_exporter": "python",
   "pygments_lexer": "ipython3",
   "version": "3.12.7"
  }
 },
 "nbformat": 4,
 "nbformat_minor": 5
}
