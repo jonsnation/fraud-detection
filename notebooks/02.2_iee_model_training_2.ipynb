{
 "cells": [
  {
   "cell_type": "code",
   "execution_count": 1,
   "id": "b55c49db",
   "metadata": {},
   "outputs": [
    {
     "name": "stdout",
     "output_type": "stream",
     "text": [
      "Note: you may need to restart the kernel to use updated packages.\n"
     ]
    },
    {
     "name": "stderr",
     "output_type": "stream",
     "text": [
      "Intel(R) Extension for Scikit-learn* enabled (https://github.com/uxlfoundation/scikit-learn-intelex)\n"
     ]
    }
   ],
   "source": [
    "# === Patch scikit-learn for faster processing ===\n",
    "%pip install -q scikit-learn-intelex\n",
    "from sklearnex import patch_sklearn\n",
    "patch_sklearn()\n"
   ]
  },
  {
   "cell_type": "code",
   "execution_count": 2,
   "id": "170ded0d",
   "metadata": {},
   "outputs": [
    {
     "name": "stdout",
     "output_type": "stream",
     "text": [
      "Project root set to: C:\\Users\\jonat\\fraud-detection-project\n"
     ]
    }
   ],
   "source": [
    "\n",
    "# === Set up project root ===\n",
    "import sys\n",
    "from pathlib import Path\n",
    "\n",
    "project_root = Path().resolve()\n",
    "while not (project_root / 'src').exists() and project_root != project_root.parent:\n",
    "    project_root = project_root.parent\n",
    "sys.path.append(str(project_root))\n",
    "print(\"Project root set to:\", project_root)\n"
   ]
  },
  {
   "cell_type": "code",
   "execution_count": 3,
   "id": "7ede5520",
   "metadata": {},
   "outputs": [],
   "source": [
    "\n",
    "# === Imports ===\n",
    "import pandas as pd\n",
    "import joblib\n",
    "import numpy as np\n",
    "from src.training import train_and_evaluate_cv \n"
   ]
  },
  {
   "cell_type": "code",
   "execution_count": 4,
   "id": "aeae1806",
   "metadata": {},
   "outputs": [],
   "source": [
    "\n",
    "# === Paths ===\n",
    "processed_dir = project_root / \"data\" / \"processed\"\n",
    "model_dir = project_root / \"models\" / \"trained_model\"\n",
    "model_dir.mkdir(parents=True, exist_ok=True)\n"
   ]
  },
  {
   "cell_type": "code",
   "execution_count": 5,
   "id": "2d661744",
   "metadata": {},
   "outputs": [
    {
     "name": "stdout",
     "output_type": "stream",
     "text": [
      "Loaded feature column names: ['TransactionDT', 'TransactionAmt', 'card1', 'card2', 'card3'] ...\n",
      "Adjusted shapes for consistency:\n",
      "X shape: (1139754, 357)\n",
      "y shape: (1139754,)\n"
     ]
    }
   ],
   "source": [
    "\n",
    "# === Load Data ===\n",
    "feature_columns = joblib.load(processed_dir / \"feature_columns.pkl\")\n",
    "print(\"Loaded feature column names:\", feature_columns[:5], \"...\")\n",
    "\n",
    "X = pd.read_csv(processed_dir / \"X_smote.csv\", header=0)\n",
    "X.columns = feature_columns\n",
    "\n",
    "y = pd.read_csv(processed_dir / \"y_smote.csv\", header=0).squeeze(\"columns\")\n",
    "y = pd.to_numeric(y, errors=\"coerce\").dropna().astype(int).reset_index(drop=True)\n",
    "\n",
    "min_len = min(len(X), len(y))\n",
    "X = X.iloc[:min_len].reset_index(drop=True)\n",
    "y = y.iloc[:min_len].reset_index(drop=True)\n",
    "\n",
    "print(\"Adjusted shapes for consistency:\")\n",
    "print(\"X shape:\", X.shape)\n",
    "print(\"y shape:\", y.shape)\n"
   ]
  },
  {
   "cell_type": "code",
   "execution_count": 6,
   "id": "1281a3bc",
   "metadata": {},
   "outputs": [
    {
     "name": "stdout",
     "output_type": "stream",
     "text": [
      "Preprocessor loaded.\n"
     ]
    }
   ],
   "source": [
    "\n",
    "# === Load preprocessor ===\n",
    "preprocessor = joblib.load(processed_dir / \"preprocessor.pkl\")\n",
    "print(\"Preprocessor loaded.\")\n"
   ]
  },
  {
   "cell_type": "code",
   "execution_count": 7,
   "id": "721dbd5f",
   "metadata": {},
   "outputs": [
    {
     "name": "stdout",
     "output_type": "stream",
     "text": [
      "\n",
      "=== Training RandomForest with 5-Fold Cross-Validation ===\n",
      "Fold 1: RandomForest trained in 239.39 seconds\n",
      "\n",
      "=== Fold 1 Classification Report for RandomForest ===\n",
      "              precision    recall  f1-score   support\n",
      "\n",
      "           0     0.9865    0.9970    0.9917    113934\n",
      "           1     0.9970    0.9864    0.9916    114017\n",
      "\n",
      "    accuracy                         0.9917    227951\n",
      "   macro avg     0.9917    0.9917    0.9917    227951\n",
      "weighted avg     0.9917    0.9917    0.9917    227951\n",
      "\n",
      "Fold 2: RandomForest trained in 222.48 seconds\n",
      "\n",
      "=== Fold 2 Classification Report for RandomForest ===\n",
      "              precision    recall  f1-score   support\n",
      "\n",
      "           0     0.9875    0.9970    0.9923    114106\n",
      "           1     0.9970    0.9874    0.9922    113845\n",
      "\n",
      "    accuracy                         0.9922    227951\n",
      "   macro avg     0.9923    0.9922    0.9922    227951\n",
      "weighted avg     0.9923    0.9922    0.9922    227951\n",
      "\n",
      "Fold 3: RandomForest trained in 223.70 seconds\n",
      "\n",
      "=== Fold 3 Classification Report for RandomForest ===\n",
      "              precision    recall  f1-score   support\n",
      "\n",
      "           0     0.9870    0.9970    0.9919    114031\n",
      "           1     0.9969    0.9868    0.9918    113920\n",
      "\n",
      "    accuracy                         0.9919    227951\n",
      "   macro avg     0.9919    0.9919    0.9919    227951\n",
      "weighted avg     0.9919    0.9919    0.9919    227951\n",
      "\n",
      "Fold 4: RandomForest trained in 216.31 seconds\n",
      "\n",
      "=== Fold 4 Classification Report for RandomForest ===\n",
      "              precision    recall  f1-score   support\n",
      "\n",
      "           0     0.9862    0.9968    0.9915    113819\n",
      "           1     0.9968    0.9861    0.9914    114132\n",
      "\n",
      "    accuracy                         0.9915    227951\n",
      "   macro avg     0.9915    0.9915    0.9915    227951\n",
      "weighted avg     0.9915    0.9915    0.9915    227951\n",
      "\n",
      "Fold 5: RandomForest trained in 222.36 seconds\n",
      "\n",
      "=== Fold 5 Classification Report for RandomForest ===\n",
      "              precision    recall  f1-score   support\n",
      "\n",
      "           0     0.9864    0.9970    0.9917    113987\n",
      "           1     0.9970    0.9863    0.9916    113963\n",
      "\n",
      "    accuracy                         0.9917    227950\n",
      "   macro avg     0.9917    0.9917    0.9917    227950\n",
      "weighted avg     0.9917    0.9917    0.9917    227950\n",
      "\n",
      "\n",
      ">>> RandomForest - Mean Accuracy: 0.9918 | Mean ROC AUC: 0.9993\n",
      "\n",
      "=== Training XGBoost with 5-Fold Cross-Validation ===\n"
     ]
    },
    {
     "name": "stderr",
     "output_type": "stream",
     "text": [
      "c:\\Users\\jonat\\anaconda3\\Lib\\site-packages\\xgboost\\training.py:183: UserWarning: [22:19:08] WARNING: C:\\actions-runner\\_work\\xgboost\\xgboost\\src\\learner.cc:738: \n",
      "Parameters: { \"use_label_encoder\" } are not used.\n",
      "\n",
      "  bst.update(dtrain, iteration=i, fobj=obj)\n"
     ]
    },
    {
     "name": "stdout",
     "output_type": "stream",
     "text": [
      "Fold 1: XGBoost trained in 48.09 seconds\n",
      "\n",
      "=== Fold 1 Classification Report for XGBoost ===\n",
      "              precision    recall  f1-score   support\n",
      "\n",
      "           0     0.9710    0.9963    0.9835    113934\n",
      "           1     0.9962    0.9703    0.9831    114017\n",
      "\n",
      "    accuracy                         0.9833    227951\n",
      "   macro avg     0.9836    0.9833    0.9833    227951\n",
      "weighted avg     0.9836    0.9833    0.9833    227951\n",
      "\n"
     ]
    },
    {
     "name": "stderr",
     "output_type": "stream",
     "text": [
      "c:\\Users\\jonat\\anaconda3\\Lib\\site-packages\\xgboost\\training.py:183: UserWarning: [22:20:07] WARNING: C:\\actions-runner\\_work\\xgboost\\xgboost\\src\\learner.cc:738: \n",
      "Parameters: { \"use_label_encoder\" } are not used.\n",
      "\n",
      "  bst.update(dtrain, iteration=i, fobj=obj)\n"
     ]
    },
    {
     "name": "stdout",
     "output_type": "stream",
     "text": [
      "Fold 2: XGBoost trained in 46.18 seconds\n",
      "\n",
      "=== Fold 2 Classification Report for XGBoost ===\n",
      "              precision    recall  f1-score   support\n",
      "\n",
      "           0     0.9707    0.9959    0.9831    114106\n",
      "           1     0.9958    0.9698    0.9826    113845\n",
      "\n",
      "    accuracy                         0.9829    227951\n",
      "   macro avg     0.9832    0.9829    0.9829    227951\n",
      "weighted avg     0.9832    0.9829    0.9829    227951\n",
      "\n"
     ]
    },
    {
     "name": "stderr",
     "output_type": "stream",
     "text": [
      "c:\\Users\\jonat\\anaconda3\\Lib\\site-packages\\xgboost\\training.py:183: UserWarning: [22:21:03] WARNING: C:\\actions-runner\\_work\\xgboost\\xgboost\\src\\learner.cc:738: \n",
      "Parameters: { \"use_label_encoder\" } are not used.\n",
      "\n",
      "  bst.update(dtrain, iteration=i, fobj=obj)\n"
     ]
    },
    {
     "name": "stdout",
     "output_type": "stream",
     "text": [
      "Fold 3: XGBoost trained in 47.18 seconds\n",
      "\n",
      "=== Fold 3 Classification Report for XGBoost ===\n",
      "              precision    recall  f1-score   support\n",
      "\n",
      "           0     0.9709    0.9963    0.9834    114031\n",
      "           1     0.9962    0.9701    0.9830    113920\n",
      "\n",
      "    accuracy                         0.9832    227951\n",
      "   macro avg     0.9835    0.9832    0.9832    227951\n",
      "weighted avg     0.9835    0.9832    0.9832    227951\n",
      "\n"
     ]
    },
    {
     "name": "stderr",
     "output_type": "stream",
     "text": [
      "c:\\Users\\jonat\\anaconda3\\Lib\\site-packages\\xgboost\\training.py:183: UserWarning: [22:21:59] WARNING: C:\\actions-runner\\_work\\xgboost\\xgboost\\src\\learner.cc:738: \n",
      "Parameters: { \"use_label_encoder\" } are not used.\n",
      "\n",
      "  bst.update(dtrain, iteration=i, fobj=obj)\n"
     ]
    },
    {
     "name": "stdout",
     "output_type": "stream",
     "text": [
      "Fold 4: XGBoost trained in 45.68 seconds\n",
      "\n",
      "=== Fold 4 Classification Report for XGBoost ===\n",
      "              precision    recall  f1-score   support\n",
      "\n",
      "           0     0.9702    0.9958    0.9828    113819\n",
      "           1     0.9957    0.9695    0.9824    114132\n",
      "\n",
      "    accuracy                         0.9826    227951\n",
      "   macro avg     0.9830    0.9827    0.9826    227951\n",
      "weighted avg     0.9830    0.9826    0.9826    227951\n",
      "\n"
     ]
    },
    {
     "name": "stderr",
     "output_type": "stream",
     "text": [
      "c:\\Users\\jonat\\anaconda3\\Lib\\site-packages\\xgboost\\training.py:183: UserWarning: [22:22:54] WARNING: C:\\actions-runner\\_work\\xgboost\\xgboost\\src\\learner.cc:738: \n",
      "Parameters: { \"use_label_encoder\" } are not used.\n",
      "\n",
      "  bst.update(dtrain, iteration=i, fobj=obj)\n"
     ]
    },
    {
     "name": "stdout",
     "output_type": "stream",
     "text": [
      "Fold 5: XGBoost trained in 45.34 seconds\n",
      "\n",
      "=== Fold 5 Classification Report for XGBoost ===\n",
      "              precision    recall  f1-score   support\n",
      "\n",
      "           0     0.9713    0.9958    0.9834    113987\n",
      "           1     0.9956    0.9706    0.9830    113963\n",
      "\n",
      "    accuracy                         0.9832    227950\n",
      "   macro avg     0.9835    0.9832    0.9832    227950\n",
      "weighted avg     0.9835    0.9832    0.9832    227950\n",
      "\n"
     ]
    },
    {
     "name": "stderr",
     "output_type": "stream",
     "text": [
      "c:\\Users\\jonat\\anaconda3\\Lib\\site-packages\\xgboost\\training.py:183: UserWarning: [22:23:41] WARNING: C:\\actions-runner\\_work\\xgboost\\xgboost\\src\\learner.cc:738: \n",
      "Parameters: { \"use_label_encoder\" } are not used.\n",
      "\n",
      "  bst.update(dtrain, iteration=i, fobj=obj)\n"
     ]
    },
    {
     "name": "stdout",
     "output_type": "stream",
     "text": [
      "\n",
      ">>> XGBoost - Mean Accuracy: 0.9830 | Mean ROC AUC: 0.9970\n",
      "\n",
      "=== Training LogisticRegression with 5-Fold Cross-Validation ===\n",
      "Fold 1: LogisticRegression trained in 1584.87 seconds\n",
      "\n",
      "=== Fold 1 Classification Report for LogisticRegression ===\n",
      "              precision    recall  f1-score   support\n",
      "\n",
      "           0     0.7640    0.8242    0.7930    113934\n",
      "           1     0.8093    0.7456    0.7762    114017\n",
      "\n",
      "    accuracy                         0.7849    227951\n",
      "   macro avg     0.7867    0.7849    0.7846    227951\n",
      "weighted avg     0.7867    0.7849    0.7846    227951\n",
      "\n",
      "Fold 2: LogisticRegression trained in 1561.24 seconds\n",
      "\n",
      "=== Fold 2 Classification Report for LogisticRegression ===\n",
      "              precision    recall  f1-score   support\n",
      "\n",
      "           0     0.7628    0.8240    0.7922    114106\n",
      "           1     0.8082    0.7432    0.7743    113845\n",
      "\n",
      "    accuracy                         0.7837    227951\n",
      "   macro avg     0.7855    0.7836    0.7833    227951\n",
      "weighted avg     0.7855    0.7837    0.7833    227951\n",
      "\n",
      "Fold 3: LogisticRegression trained in 1602.34 seconds\n",
      "\n",
      "=== Fold 3 Classification Report for LogisticRegression ===\n",
      "              precision    recall  f1-score   support\n",
      "\n",
      "           0     0.7637    0.8229    0.7922    114031\n",
      "           1     0.8078    0.7451    0.7752    113920\n",
      "\n",
      "    accuracy                         0.7840    227951\n",
      "   macro avg     0.7858    0.7840    0.7837    227951\n",
      "weighted avg     0.7858    0.7840    0.7837    227951\n",
      "\n",
      "Fold 4: LogisticRegression trained in 1504.50 seconds\n",
      "\n",
      "=== Fold 4 Classification Report for LogisticRegression ===\n",
      "              precision    recall  f1-score   support\n",
      "\n",
      "           0     0.7605    0.8219    0.7900    113819\n",
      "           1     0.8068    0.7419    0.7730    114132\n",
      "\n",
      "    accuracy                         0.7818    227951\n",
      "   macro avg     0.7837    0.7819    0.7815    227951\n",
      "weighted avg     0.7837    0.7818    0.7815    227951\n",
      "\n",
      "Fold 5: LogisticRegression trained in 1581.93 seconds\n",
      "\n",
      "=== Fold 5 Classification Report for LogisticRegression ===\n",
      "              precision    recall  f1-score   support\n",
      "\n",
      "           0     0.7626    0.8234    0.7918    113987\n",
      "           1     0.8080    0.7436    0.7745    113963\n",
      "\n",
      "    accuracy                         0.7835    227950\n",
      "   macro avg     0.7853    0.7835    0.7832    227950\n",
      "weighted avg     0.7853    0.7835    0.7832    227950\n",
      "\n",
      "\n",
      ">>> LogisticRegression - Mean Accuracy: 0.7836 | Mean ROC AUC: 0.8642\n",
      "\n",
      "=== Training GradientBoosting with 5-Fold Cross-Validation ===\n",
      "Fold 1: GradientBoosting trained in 2057.47 seconds\n",
      "\n",
      "=== Fold 1 Classification Report for GradientBoosting ===\n",
      "              precision    recall  f1-score   support\n",
      "\n",
      "           0     0.9101    0.9532    0.9311    113934\n",
      "           1     0.9509    0.9059    0.9279    114017\n",
      "\n",
      "    accuracy                         0.9295    227951\n",
      "   macro avg     0.9305    0.9296    0.9295    227951\n",
      "weighted avg     0.9305    0.9295    0.9295    227951\n",
      "\n",
      "Fold 2: GradientBoosting trained in 1816.07 seconds\n",
      "\n",
      "=== Fold 2 Classification Report for GradientBoosting ===\n",
      "              precision    recall  f1-score   support\n",
      "\n",
      "           0     0.9096    0.9533    0.9309    114106\n",
      "           1     0.9508    0.9051    0.9274    113845\n",
      "\n",
      "    accuracy                         0.9292    227951\n",
      "   macro avg     0.9302    0.9292    0.9292    227951\n",
      "weighted avg     0.9302    0.9292    0.9292    227951\n",
      "\n",
      "Fold 3: GradientBoosting trained in 1821.89 seconds\n",
      "\n",
      "=== Fold 3 Classification Report for GradientBoosting ===\n",
      "              precision    recall  f1-score   support\n",
      "\n",
      "           0     0.9098    0.9539    0.9313    114031\n",
      "           1     0.9515    0.9054    0.9278    113920\n",
      "\n",
      "    accuracy                         0.9296    227951\n",
      "   macro avg     0.9306    0.9296    0.9296    227951\n",
      "weighted avg     0.9306    0.9296    0.9296    227951\n",
      "\n",
      "Fold 4: GradientBoosting trained in 1822.52 seconds\n",
      "\n",
      "=== Fold 4 Classification Report for GradientBoosting ===\n",
      "              precision    recall  f1-score   support\n",
      "\n",
      "           0     0.9092    0.9531    0.9306    113819\n",
      "           1     0.9508    0.9051    0.9274    114132\n",
      "\n",
      "    accuracy                         0.9291    227951\n",
      "   macro avg     0.9300    0.9291    0.9290    227951\n",
      "weighted avg     0.9301    0.9291    0.9290    227951\n",
      "\n",
      "Fold 5: GradientBoosting trained in 1809.77 seconds\n",
      "\n",
      "=== Fold 5 Classification Report for GradientBoosting ===\n",
      "              precision    recall  f1-score   support\n",
      "\n",
      "           0     0.9075    0.9515    0.9290    113987\n",
      "           1     0.9490    0.9030    0.9254    113963\n",
      "\n",
      "    accuracy                         0.9272    227950\n",
      "   macro avg     0.9283    0.9272    0.9272    227950\n",
      "weighted avg     0.9283    0.9272    0.9272    227950\n",
      "\n",
      "\n",
      ">>> GradientBoosting - Mean Accuracy: 0.9289 | Mean ROC AUC: 0.9785\n",
      "\n",
      "=== Training MLP with 5-Fold Cross-Validation ===\n",
      "Fold 1: MLP trained in 4380.12 seconds\n",
      "\n",
      "=== Fold 1 Classification Report for MLP ===\n",
      "              precision    recall  f1-score   support\n",
      "\n",
      "           0     0.9607    0.9506    0.9556    113934\n",
      "           1     0.9511    0.9611    0.9561    114017\n",
      "\n",
      "    accuracy                         0.9558    227951\n",
      "   macro avg     0.9559    0.9558    0.9558    227951\n",
      "weighted avg     0.9559    0.9558    0.9558    227951\n",
      "\n",
      "Fold 2: MLP trained in 4580.20 seconds\n",
      "\n",
      "=== Fold 2 Classification Report for MLP ===\n",
      "              precision    recall  f1-score   support\n",
      "\n",
      "           0     0.9565    0.9532    0.9548    114106\n",
      "           1     0.9532    0.9565    0.9549    113845\n",
      "\n",
      "    accuracy                         0.9548    227951\n",
      "   macro avg     0.9548    0.9548    0.9548    227951\n",
      "weighted avg     0.9548    0.9548    0.9548    227951\n",
      "\n",
      "Fold 3: MLP trained in 4389.77 seconds\n",
      "\n",
      "=== Fold 3 Classification Report for MLP ===\n",
      "              precision    recall  f1-score   support\n",
      "\n",
      "           0     0.9624    0.9468    0.9546    114031\n",
      "           1     0.9476    0.9630    0.9553    113920\n",
      "\n",
      "    accuracy                         0.9549    227951\n",
      "   macro avg     0.9550    0.9549    0.9549    227951\n",
      "weighted avg     0.9550    0.9549    0.9549    227951\n",
      "\n",
      "Fold 4: MLP trained in 3980.90 seconds\n",
      "\n",
      "=== Fold 4 Classification Report for MLP ===\n",
      "              precision    recall  f1-score   support\n",
      "\n",
      "           0     0.9712    0.9378    0.9542    113819\n",
      "           1     0.9401    0.9723    0.9559    114132\n",
      "\n",
      "    accuracy                         0.9551    227951\n",
      "   macro avg     0.9556    0.9551    0.9551    227951\n",
      "weighted avg     0.9556    0.9551    0.9551    227951\n",
      "\n",
      "Fold 5: MLP trained in 5264.41 seconds\n",
      "\n",
      "=== Fold 5 Classification Report for MLP ===\n",
      "              precision    recall  f1-score   support\n",
      "\n",
      "           0     0.9475    0.9607    0.9541    113987\n",
      "           1     0.9602    0.9468    0.9534    113963\n",
      "\n",
      "    accuracy                         0.9537    227950\n",
      "   macro avg     0.9538    0.9537    0.9537    227950\n",
      "weighted avg     0.9538    0.9537    0.9537    227950\n",
      "\n",
      "\n",
      ">>> MLP - Mean Accuracy: 0.9549 | Mean ROC AUC: 0.9909\n"
     ]
    },
    {
     "data": {
      "image/png": "[encoded data removed]",
      "text/plain": [
       "<Figure size 1000x800 with 1 Axes>"
      ]
     },
     "metadata": {},
     "output_type": "display_data"
    },
    {
     "name": "stdout",
     "output_type": "stream",
     "text": [
      "\n",
      "All models, preprocessor, and classification reports saved.\n"
     ]
    }
   ],
   "source": [
    "\n",
    "# === Train and Evaluate with Cross-Validation ===\n",
    "train_and_evaluate_cv(X, y, preprocessor, model_dir, n_splits=5)\n"
   ]
  }
 ],
 "metadata": {
  "kernelspec": {
   "display_name": "base",
   "language": "python",
   "name": "python3"
  },
  "language_info": {
   "codemirror_mode": {
    "name": "ipython",
    "version": 3
   },
   "file_extension": ".py",
   "mimetype": "text/x-python",
   "name": "python",
   "nbconvert_exporter": "python",
   "pygments_lexer": "ipython3",
   "version": "3.12.7"
  }
 },
 "nbformat": 4,
 "nbformat_minor": 5
}
